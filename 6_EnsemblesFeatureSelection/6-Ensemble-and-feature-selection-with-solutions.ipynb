{
 "cells": [
  {
   "cell_type": "markdown",
   "metadata": {},
   "source": [
    "# INFO-F-422 -  Statistical Foundations of Machine Learning \n",
    "\n",
    "### Jacopo De Stefani - __[Jacopo.De.Stefani@ulb.ac.be](mailto:Jacopo.De.Stefani@ulb.ac.be)__\n",
    "### Bertrand Lebichot - __[Bertrand.Lebichot@ulb.ac.be](mailto:Bertrand.Lebichot@ulb.ac.be)__\n",
    "### Arnaud Pollaris - __[Arnaud.Pollaris@ulb.ac.be](mailto:Arnaud.Pollaris@ulb.ac.be)__\n",
    "\n",
    "## TP 6 -  Ensembles of models and feature selection\n",
    "\n",
    "####  April 30, 2019\n",
    "\n",
    "#### Materials originally developed by *Yann-Aël Le Borgne, Fabrizio Carcillo and Gianluca Bontempi*"
   ]
  },
  {
   "cell_type": "markdown",
   "metadata": {},
   "source": [
    "## Overview\n",
    "\n",
    "Ensembles of models and feature selection are two machine learning techniques which can be used to improve the accuracy of preditions. \n",
    "\n",
    "Ensembles of models consist in building several predictive models using resampled subsets of the original training set. The method works particularly well for predictive models with high variance (for example, decision trees or neural networks). The average prediction of the resulting models usually strongly decreases the variance component of the error, and as a consequence improves the prediction accuracy. \n",
    "\n",
    "Feature selection aims at reducing the dimensionality of the problem, and is useful when input variables contain redundant or irrelevant (noisy) information. Benefits are twofold: it decreases the training time by simplifying the problem, and it decreases the complexity of the predictive model. This in turn usually improves the prediction accuracy, since high-dimensionality makes predictive models more prone to overfitting, and estimates of parameters more variant. "
   ]
  },
  {
   "cell_type": "markdown",
   "metadata": {},
   "source": [
    "In this session, we will illustrate both techniques using the IMDB 5000 dataset, which contains 27 variables describing 5043 movies. The variables contain information about the director, actors, number of Facebook likes for each actor, duration, genre, language, country, etc... We will use them to predict the movie success (through the IMDB score). The dataset together with a description of the variables is at https://www.kaggle.com/deepmatrix/imdb-5000-movie-dataset.\n",
    "\n",
    "The dataset is on the github of the course, in datasets/movie_metadata.csv"
   ]
  },
  {
   "cell_type": "markdown",
   "metadata": {},
   "source": [
    "## Data overview and preprocessing"
   ]
  },
  {
   "cell_type": "markdown",
   "metadata": {},
   "source": [
    "Let us load and select a random subset of 1000 movies"
   ]
  },
  {
   "cell_type": "code",
   "execution_count": 59,
   "metadata": {},
   "outputs": [],
   "source": [
    "data<-read.csv(\"movie_metadata.csv\")\n",
    "set.seed(2)\n",
    "data<-data[sample(nrow(data),1000),]"
   ]
  },
  {
   "cell_type": "markdown",
   "metadata": {},
   "source": [
    "### Dataset overview"
   ]
  },
  {
   "cell_type": "code",
   "execution_count": 60,
   "metadata": {},
   "outputs": [
    {
     "data": {
      "text/html": [
       "<ol class=list-inline>\n",
       "\t<li>1000</li>\n",
       "\t<li>28</li>\n",
       "</ol>\n"
      ],
      "text/latex": [
       "\\begin{enumerate*}\n",
       "\\item 1000\n",
       "\\item 28\n",
       "\\end{enumerate*}\n"
      ],
      "text/markdown": [
       "1. 1000\n",
       "2. 28\n",
       "\n",
       "\n"
      ],
      "text/plain": [
       "[1] 1000   28"
      ]
     },
     "metadata": {},
     "output_type": "display_data"
    }
   ],
   "source": [
    "dim(data)\n"
   ]
  },
  {
   "cell_type": "code",
   "execution_count": 61,
   "metadata": {},
   "outputs": [
    {
     "data": {
      "text/html": [
       "<table>\n",
       "<thead><tr><th></th><th scope=col>color</th><th scope=col>director_name</th><th scope=col>num_critic_for_reviews</th><th scope=col>duration</th><th scope=col>director_facebook_likes</th><th scope=col>actor_3_facebook_likes</th><th scope=col>actor_2_name</th><th scope=col>actor_1_facebook_likes</th><th scope=col>gross</th><th scope=col>genres</th><th scope=col>actor_1_name</th><th scope=col>movie_title</th><th scope=col>num_voted_users</th><th scope=col>cast_total_facebook_likes</th><th scope=col>actor_3_name</th><th scope=col>facenumber_in_poster</th><th scope=col>plot_keywords</th><th scope=col>movie_imdb_link</th><th scope=col>num_user_for_reviews</th><th scope=col>language</th><th scope=col>country</th><th scope=col>content_rating</th><th scope=col>budget</th><th scope=col>title_year</th><th scope=col>actor_2_facebook_likes</th><th scope=col>imdb_score</th><th scope=col>aspect_ratio</th><th scope=col>movie_facebook_likes</th></tr></thead>\n",
       "<tbody>\n",
       "\t<tr><th scope=row>933</th><td>Color                                               </td><td>James L. Brooks                                     </td><td>156                                                 </td><td>139                                                 </td><td>274                                                 </td><td>285                                                 </td><td>Yeardley Smith                                      </td><td>625                                                 </td><td>147637474                                           </td><td>Comedy|Drama|Romance                                </td><td>Lupe Ontiveros                                      </td><td>As Good as It GetsÂ                                 </td><td>224671                                              </td><td>1474                                                </td><td>Shirley Knight                                      </td><td>0                                                   </td><td>dog|friendship|neighbor|unlikely friendship|writer  </td><td>http://www.imdb.com/title/tt0119822/?ref_=fn_tt_tt_1</td><td>470                                                 </td><td>English                                             </td><td>USA                                                 </td><td>PG-13                                               </td><td>5e+07                                               </td><td>1997                                                </td><td>440                                                 </td><td>7.7                                                 </td><td>1.85                                                </td><td>11000                                               </td></tr>\n",
       "\t<tr><th scope=row>3542</th><td>Color                                               </td><td>Robert C. Cooper                                    </td><td> 18                                                 </td><td> 97                                                 </td><td> 49                                                 </td><td>687                                                 </td><td>Christopher Judge                                   </td><td>878                                                 </td><td>       NA                                           </td><td>Action|Adventure|Drama|Fantasy|Sci-Fi               </td><td>Ben Browder                                         </td><td>Stargate: The Ark of TruthÂ                         </td><td> 15862                                              </td><td>4334                                                </td><td>Julian Sands                                        </td><td>5                                                   </td><td>2000s|evil god|space opera|stargate|wormhole        </td><td>http://www.imdb.com/title/tt0942903/?ref_=fn_tt_tt_1</td><td> 42                                                 </td><td>English                                             </td><td>USA                                                 </td><td>                                                    </td><td>   NA                                               </td><td>2008                                                </td><td>847                                                 </td><td>7.4                                                 </td><td>1.78                                                </td><td>  389                                               </td></tr>\n",
       "</tbody>\n",
       "</table>\n"
      ],
      "text/latex": [
       "\\begin{tabular}{r|llllllllllllllllllllllllllll}\n",
       "  & color & director\\_name & num\\_critic\\_for\\_reviews & duration & director\\_facebook\\_likes & actor\\_3\\_facebook\\_likes & actor\\_2\\_name & actor\\_1\\_facebook\\_likes & gross & genres & actor\\_1\\_name & movie\\_title & num\\_voted\\_users & cast\\_total\\_facebook\\_likes & actor\\_3\\_name & facenumber\\_in\\_poster & plot\\_keywords & movie\\_imdb\\_link & num\\_user\\_for\\_reviews & language & country & content\\_rating & budget & title\\_year & actor\\_2\\_facebook\\_likes & imdb\\_score & aspect\\_ratio & movie\\_facebook\\_likes\\\\\n",
       "\\hline\n",
       "\t933 & Color                                                                                      & James L. Brooks                                                                            & 156                                                                                        & 139                                                                                        & 274                                                                                        & 285                                                                                        & Yeardley Smith                                                                             & 625                                                                                        & 147637474                                                                                  & Comedy\\textbar{}Drama\\textbar{}Romance                                                   & Lupe Ontiveros                                                                             & As Good as It GetsÂ                                                                        & 224671                                                                                     & 1474                                                                                       & Shirley Knight                                                                             & 0                                                                                          & dog\\textbar{}friendship\\textbar{}neighbor\\textbar{}unlikely friendship\\textbar{}writer & http://www.imdb.com/title/tt0119822/?ref\\_=fn\\_tt\\_tt\\_1                               & 470                                                                                        & English                                                                                    & USA                                                                                        & PG-13                                                                                      & 5e+07                                                                                      & 1997                                                                                       & 440                                                                                        & 7.7                                                                                        & 1.85                                                                                       & 11000                                                                                     \\\\\n",
       "\t3542 & Color                                                                                      & Robert C. Cooper                                                                           &  18                                                                                        &  97                                                                                        &  49                                                                                        & 687                                                                                        & Christopher Judge                                                                          & 878                                                                                        &        NA                                                                                  & Action\\textbar{}Adventure\\textbar{}Drama\\textbar{}Fantasy\\textbar{}Sci-Fi              & Ben Browder                                                                                & Stargate: The Ark of TruthÂ                                                                &  15862                                                                                     & 4334                                                                                       & Julian Sands                                                                               & 5                                                                                          & 2000s\\textbar{}evil god\\textbar{}space opera\\textbar{}stargate\\textbar{}wormhole       & http://www.imdb.com/title/tt0942903/?ref\\_=fn\\_tt\\_tt\\_1                               &  42                                                                                        & English                                                                                    & USA                                                                                        &                                                                                            &    NA                                                                                      & 2008                                                                                       & 847                                                                                        & 7.4                                                                                        & 1.78                                                                                       &   389                                                                                     \\\\\n",
       "\\end{tabular}\n"
      ],
      "text/markdown": [
       "\n",
       "| <!--/--> | color | director_name | num_critic_for_reviews | duration | director_facebook_likes | actor_3_facebook_likes | actor_2_name | actor_1_facebook_likes | gross | genres | actor_1_name | movie_title | num_voted_users | cast_total_facebook_likes | actor_3_name | facenumber_in_poster | plot_keywords | movie_imdb_link | num_user_for_reviews | language | country | content_rating | budget | title_year | actor_2_facebook_likes | imdb_score | aspect_ratio | movie_facebook_likes | \n",
       "|---|---|\n",
       "| 933 | Color                                                | James L. Brooks                                      | 156                                                  | 139                                                  | 274                                                  | 285                                                  | Yeardley Smith                                       | 625                                                  | 147637474                                            | Comedy|Drama|Romance                                 | Lupe Ontiveros                                       | As Good as It GetsÂ                                  | 224671                                               | 1474                                                 | Shirley Knight                                       | 0                                                    | dog|friendship|neighbor|unlikely friendship|writer   | http://www.imdb.com/title/tt0119822/?ref_=fn_tt_tt_1 | 470                                                  | English                                              | USA                                                  | PG-13                                                | 5e+07                                                | 1997                                                 | 440                                                  | 7.7                                                  | 1.85                                                 | 11000                                                | \n",
       "| 3542 | Color                                                | Robert C. Cooper                                     |  18                                                  |  97                                                  |  49                                                  | 687                                                  | Christopher Judge                                    | 878                                                  |        NA                                            | Action|Adventure|Drama|Fantasy|Sci-Fi                | Ben Browder                                          | Stargate: The Ark of TruthÂ                          |  15862                                               | 4334                                                 | Julian Sands                                         | 5                                                    | 2000s|evil god|space opera|stargate|wormhole         | http://www.imdb.com/title/tt0942903/?ref_=fn_tt_tt_1 |  42                                                  | English                                              | USA                                                  |                                                      |    NA                                                | 2008                                                 | 847                                                  | 7.4                                                  | 1.78                                                 |   389                                                | \n",
       "\n",
       "\n"
      ],
      "text/plain": [
       "     color director_name    num_critic_for_reviews duration\n",
       "933  Color James L. Brooks  156                    139     \n",
       "3542 Color Robert C. Cooper  18                     97     \n",
       "     director_facebook_likes actor_3_facebook_likes actor_2_name     \n",
       "933  274                     285                    Yeardley Smith   \n",
       "3542  49                     687                    Christopher Judge\n",
       "     actor_1_facebook_likes gross     genres                               \n",
       "933  625                    147637474 Comedy|Drama|Romance                 \n",
       "3542 878                           NA Action|Adventure|Drama|Fantasy|Sci-Fi\n",
       "     actor_1_name   movie_title                  num_voted_users\n",
       "933  Lupe Ontiveros As Good as It GetsÂ          224671         \n",
       "3542 Ben Browder    Stargate: The Ark of TruthÂ   15862         \n",
       "     cast_total_facebook_likes actor_3_name   facenumber_in_poster\n",
       "933  1474                      Shirley Knight 0                   \n",
       "3542 4334                      Julian Sands   5                   \n",
       "     plot_keywords                                     \n",
       "933  dog|friendship|neighbor|unlikely friendship|writer\n",
       "3542 2000s|evil god|space opera|stargate|wormhole      \n",
       "     movie_imdb_link                                      num_user_for_reviews\n",
       "933  http://www.imdb.com/title/tt0119822/?ref_=fn_tt_tt_1 470                 \n",
       "3542 http://www.imdb.com/title/tt0942903/?ref_=fn_tt_tt_1  42                 \n",
       "     language country content_rating budget title_year actor_2_facebook_likes\n",
       "933  English  USA     PG-13          5e+07  1997       440                   \n",
       "3542 English  USA                       NA  2008       847                   \n",
       "     imdb_score aspect_ratio movie_facebook_likes\n",
       "933  7.7        1.85         11000               \n",
       "3542 7.4        1.78           389               "
      ]
     },
     "metadata": {},
     "output_type": "display_data"
    }
   ],
   "source": [
    "options(repr.matrix.max.cols=50)\n",
    "data[1:2,]"
   ]
  },
  {
   "cell_type": "code",
   "execution_count": 4,
   "metadata": {},
   "outputs": [
    {
     "data": {
      "text/plain": [
       "              color              director_name num_critic_for_reviews\n",
       "                 :  5                   : 20   Min.   :  1.00        \n",
       "  Black and White: 46   Clint Eastwood  :  9   1st Qu.: 49.25        \n",
       " Color           :949   Sam Raimi       :  6   Median :108.50        \n",
       "                        Steven Spielberg:  6   Mean   :143.49        \n",
       "                        Todd Phillips   :  6   3rd Qu.:202.50        \n",
       "                        Woody Allen     :  5   Max.   :813.00        \n",
       "                        (Other)         :948   NA's   :10            \n",
       "    duration     director_facebook_likes actor_3_facebook_likes\n",
       " Min.   : 11.0   Min.   :    0.0         Min.   :    0.0       \n",
       " 1st Qu.: 93.0   1st Qu.:    6.0         1st Qu.:  123.0       \n",
       " Median :104.0   Median :   44.0         Median :  362.0       \n",
       " Mean   :107.7   Mean   :  735.7         Mean   :  618.1       \n",
       " 3rd Qu.:118.0   3rd Qu.:  188.0         3rd Qu.:  637.5       \n",
       " Max.   :511.0   Max.   :22000.0         Max.   :23000.0       \n",
       " NA's   :2       NA's   :20              NA's   :5             \n",
       "          actor_2_name actor_1_facebook_likes     gross          \n",
       " Morgan Freeman :  7   Min.   :     0.0       Min.   :     1332  \n",
       " James Franco   :  6   1st Qu.:   591.2       1st Qu.:  5895238  \n",
       " Charlize Theron:  5   Median :   983.0       Median : 28031250  \n",
       " Brad Pitt      :  4   Mean   :  6594.5       Mean   : 52916026  \n",
       " Bruce Dern     :  4   3rd Qu.: 11000.0       3rd Qu.: 64933670  \n",
       " Christian Bale :  4   Max.   :260000.0       Max.   :533316061  \n",
       " (Other)        :970   NA's   :2              NA's   :175        \n",
       "                  genres                actor_1_name\n",
       " Drama               : 52   J.K. Simmons      : 12  \n",
       " Comedy              : 43   Johnny Depp       : 11  \n",
       " Comedy|Drama        : 37   Sylvester Stallone:  8  \n",
       " Comedy|Drama|Romance: 33   Bruce Willis      :  7  \n",
       " Drama|Romance       : 31   Matt Damon        :  7  \n",
       " Comedy|Romance      : 24   Robert De Niro    :  7  \n",
       " (Other)             :780   (Other)           :948  \n",
       "                   movie_title  num_voted_users   cast_total_facebook_likes\n",
       " Bad Moms<c2><a0>        :  2   Min.   :     13   Min.   :     0           \n",
       " Stealing Harvard<c2><a0>:  2   1st Qu.:   8143   1st Qu.:  1344           \n",
       " The Possession<c2><a0>  :  2   Median :  31808   Median :  2982           \n",
       " Unbroken<c2><a0>        :  2   Mean   :  93131   Mean   :  9696           \n",
       " 15 Minutes<c2><a0>      :  1   3rd Qu.: 102979   3rd Qu.: 13766           \n",
       " 1941<c2><a0>            :  1   Max.   :1689764   Max.   :283939           \n",
       " (Other)                 :990                                              \n",
       "            actor_3_name facenumber_in_poster\n",
       "                  :  5   Min.   : 0.000      \n",
       " Philip Baker Hall:  5   1st Qu.: 0.000      \n",
       " Dave Chappelle   :  4   Median : 1.000      \n",
       " Seymour Cassel   :  4   Mean   : 1.422      \n",
       " Alia Shawkat     :  3   3rd Qu.: 2.000      \n",
       " Aunjanue Ellis   :  3   Max.   :43.000      \n",
       " (Other)          :976   NA's   :2           \n",
       "                                                            plot_keywords\n",
       "                                                                   : 29  \n",
       " basketball coach|box|jewish|rabbi|yard sale                       :  2  \n",
       " black humor|crying during sex|harvard|humor|man with glasses      :  2  \n",
       " emaciation|male nudity|plane crash|prisoner of war|torture        :  2  \n",
       " lesbian kiss|mom|pta|reference to mad max|scene during end credits:  2  \n",
       " 10 year old|dog|florida|girl|supermarket                          :  1  \n",
       " (Other)                                                           :962  \n",
       "                                             movie_imdb_link\n",
       " http://www.imdb.com/title/tt0265808/?ref_=fn_tt_tt_1:  2   \n",
       " http://www.imdb.com/title/tt0431021/?ref_=fn_tt_tt_1:  2   \n",
       " http://www.imdb.com/title/tt1809398/?ref_=fn_tt_tt_1:  2   \n",
       " http://www.imdb.com/title/tt4651520/?ref_=fn_tt_tt_1:  2   \n",
       " http://www.imdb.com/title/tt0019729/?ref_=fn_tt_tt_1:  1   \n",
       " http://www.imdb.com/title/tt0024548/?ref_=fn_tt_tt_1:  1   \n",
       " (Other)                                             :990   \n",
       " num_user_for_reviews      language        country      content_rating\n",
       " Min.   :   1.0       English  :945   USA      :762   R        :421   \n",
       " 1st Qu.:  64.0       French   : 11   UK       :102   PG-13    :286   \n",
       " Median : 149.5       Cantonese:  5   Canada   : 23   PG       :130   \n",
       " Mean   : 285.8       Hindi    :  5   France   : 23            : 59   \n",
       " 3rd Qu.: 343.8       Spanish  :  5   Germany  : 17   G        : 36   \n",
       " Max.   :4667.0       Japanese :  4   Australia: 11   Not Rated: 22   \n",
       " NA's   :6            (Other)  : 25   (Other)  : 62   (Other)  : 46   \n",
       "     budget            title_year   actor_2_facebook_likes   imdb_score   \n",
       " Min.   :    10000   Min.   :1929   Min.   :    0          Min.   :1.600  \n",
       " 1st Qu.:  6000000   1st Qu.:1999   1st Qu.:  288          1st Qu.:5.800  \n",
       " Median : 20000000   Median :2005   Median :  611          Median :6.600  \n",
       " Mean   : 34077007   Mean   :2003   Mean   : 1665          Mean   :6.454  \n",
       " 3rd Qu.: 45000000   3rd Qu.:2011   3rd Qu.:  904          3rd Qu.:7.200  \n",
       " Max.   :258000000   Max.   :2016   Max.   :25000          Max.   :9.300  \n",
       " NA's   :94          NA's   :20     NA's   :3                             \n",
       "  aspect_ratio    movie_facebook_likes\n",
       " Min.   : 1.180   Min.   :     0      \n",
       " 1st Qu.: 1.850   1st Qu.:     0      \n",
       " Median : 2.350   Median :   182      \n",
       " Mean   : 2.205   Mean   :  8375      \n",
       " 3rd Qu.: 2.350   3rd Qu.:  2000      \n",
       " Max.   :16.000   Max.   :199000      \n",
       " NA's   :67                           "
      ]
     },
     "metadata": {},
     "output_type": "display_data"
    }
   ],
   "source": [
    "summary(data)"
   ]
  },
  {
   "cell_type": "markdown",
   "metadata": {},
   "source": [
    "We see there is a mix of categorical and numerical variables, and some missing values. In order to simplify the analysis, let us remove the categorical variables, and replace the NA values with the mean values of the variables."
   ]
  },
  {
   "cell_type": "markdown",
   "metadata": {},
   "source": [
    "### Remove categorical variables"
   ]
  },
  {
   "cell_type": "markdown",
   "metadata": {},
   "source": [
    "Check the type of input variables"
   ]
  },
  {
   "cell_type": "code",
   "execution_count": 5,
   "metadata": {},
   "outputs": [
    {
     "data": {
      "text/html": [
       "<dl class=dl-horizontal>\n",
       "\t<dt>color</dt>\n",
       "\t\t<dd>'factor'</dd>\n",
       "\t<dt>director_name</dt>\n",
       "\t\t<dd>'factor'</dd>\n",
       "\t<dt>num_critic_for_reviews</dt>\n",
       "\t\t<dd>'integer'</dd>\n",
       "\t<dt>duration</dt>\n",
       "\t\t<dd>'integer'</dd>\n",
       "\t<dt>director_facebook_likes</dt>\n",
       "\t\t<dd>'integer'</dd>\n",
       "\t<dt>actor_3_facebook_likes</dt>\n",
       "\t\t<dd>'integer'</dd>\n",
       "\t<dt>actor_2_name</dt>\n",
       "\t\t<dd>'factor'</dd>\n",
       "\t<dt>actor_1_facebook_likes</dt>\n",
       "\t\t<dd>'integer'</dd>\n",
       "\t<dt>gross</dt>\n",
       "\t\t<dd>'integer'</dd>\n",
       "\t<dt>genres</dt>\n",
       "\t\t<dd>'factor'</dd>\n",
       "\t<dt>actor_1_name</dt>\n",
       "\t\t<dd>'factor'</dd>\n",
       "\t<dt>movie_title</dt>\n",
       "\t\t<dd>'factor'</dd>\n",
       "\t<dt>num_voted_users</dt>\n",
       "\t\t<dd>'integer'</dd>\n",
       "\t<dt>cast_total_facebook_likes</dt>\n",
       "\t\t<dd>'integer'</dd>\n",
       "\t<dt>actor_3_name</dt>\n",
       "\t\t<dd>'factor'</dd>\n",
       "\t<dt>facenumber_in_poster</dt>\n",
       "\t\t<dd>'integer'</dd>\n",
       "\t<dt>plot_keywords</dt>\n",
       "\t\t<dd>'factor'</dd>\n",
       "\t<dt>movie_imdb_link</dt>\n",
       "\t\t<dd>'factor'</dd>\n",
       "\t<dt>num_user_for_reviews</dt>\n",
       "\t\t<dd>'integer'</dd>\n",
       "\t<dt>language</dt>\n",
       "\t\t<dd>'factor'</dd>\n",
       "\t<dt>country</dt>\n",
       "\t\t<dd>'factor'</dd>\n",
       "\t<dt>content_rating</dt>\n",
       "\t\t<dd>'factor'</dd>\n",
       "\t<dt>budget</dt>\n",
       "\t\t<dd>'numeric'</dd>\n",
       "\t<dt>title_year</dt>\n",
       "\t\t<dd>'integer'</dd>\n",
       "\t<dt>actor_2_facebook_likes</dt>\n",
       "\t\t<dd>'integer'</dd>\n",
       "\t<dt>imdb_score</dt>\n",
       "\t\t<dd>'numeric'</dd>\n",
       "\t<dt>aspect_ratio</dt>\n",
       "\t\t<dd>'numeric'</dd>\n",
       "\t<dt>movie_facebook_likes</dt>\n",
       "\t\t<dd>'integer'</dd>\n",
       "</dl>\n"
      ],
      "text/latex": [
       "\\begin{description*}\n",
       "\\item[color] 'factor'\n",
       "\\item[director\\textbackslash{}\\_name] 'factor'\n",
       "\\item[num\\textbackslash{}\\_critic\\textbackslash{}\\_for\\textbackslash{}\\_reviews] 'integer'\n",
       "\\item[duration] 'integer'\n",
       "\\item[director\\textbackslash{}\\_facebook\\textbackslash{}\\_likes] 'integer'\n",
       "\\item[actor\\textbackslash{}\\_3\\textbackslash{}\\_facebook\\textbackslash{}\\_likes] 'integer'\n",
       "\\item[actor\\textbackslash{}\\_2\\textbackslash{}\\_name] 'factor'\n",
       "\\item[actor\\textbackslash{}\\_1\\textbackslash{}\\_facebook\\textbackslash{}\\_likes] 'integer'\n",
       "\\item[gross] 'integer'\n",
       "\\item[genres] 'factor'\n",
       "\\item[actor\\textbackslash{}\\_1\\textbackslash{}\\_name] 'factor'\n",
       "\\item[movie\\textbackslash{}\\_title] 'factor'\n",
       "\\item[num\\textbackslash{}\\_voted\\textbackslash{}\\_users] 'integer'\n",
       "\\item[cast\\textbackslash{}\\_total\\textbackslash{}\\_facebook\\textbackslash{}\\_likes] 'integer'\n",
       "\\item[actor\\textbackslash{}\\_3\\textbackslash{}\\_name] 'factor'\n",
       "\\item[facenumber\\textbackslash{}\\_in\\textbackslash{}\\_poster] 'integer'\n",
       "\\item[plot\\textbackslash{}\\_keywords] 'factor'\n",
       "\\item[movie\\textbackslash{}\\_imdb\\textbackslash{}\\_link] 'factor'\n",
       "\\item[num\\textbackslash{}\\_user\\textbackslash{}\\_for\\textbackslash{}\\_reviews] 'integer'\n",
       "\\item[language] 'factor'\n",
       "\\item[country] 'factor'\n",
       "\\item[content\\textbackslash{}\\_rating] 'factor'\n",
       "\\item[budget] 'numeric'\n",
       "\\item[title\\textbackslash{}\\_year] 'integer'\n",
       "\\item[actor\\textbackslash{}\\_2\\textbackslash{}\\_facebook\\textbackslash{}\\_likes] 'integer'\n",
       "\\item[imdb\\textbackslash{}\\_score] 'numeric'\n",
       "\\item[aspect\\textbackslash{}\\_ratio] 'numeric'\n",
       "\\item[movie\\textbackslash{}\\_facebook\\textbackslash{}\\_likes] 'integer'\n",
       "\\end{description*}\n"
      ],
      "text/markdown": [
       "color\n",
       ":   'factor'director_name\n",
       ":   'factor'num_critic_for_reviews\n",
       ":   'integer'duration\n",
       ":   'integer'director_facebook_likes\n",
       ":   'integer'actor_3_facebook_likes\n",
       ":   'integer'actor_2_name\n",
       ":   'factor'actor_1_facebook_likes\n",
       ":   'integer'gross\n",
       ":   'integer'genres\n",
       ":   'factor'actor_1_name\n",
       ":   'factor'movie_title\n",
       ":   'factor'num_voted_users\n",
       ":   'integer'cast_total_facebook_likes\n",
       ":   'integer'actor_3_name\n",
       ":   'factor'facenumber_in_poster\n",
       ":   'integer'plot_keywords\n",
       ":   'factor'movie_imdb_link\n",
       ":   'factor'num_user_for_reviews\n",
       ":   'integer'language\n",
       ":   'factor'country\n",
       ":   'factor'content_rating\n",
       ":   'factor'budget\n",
       ":   'numeric'title_year\n",
       ":   'integer'actor_2_facebook_likes\n",
       ":   'integer'imdb_score\n",
       ":   'numeric'aspect_ratio\n",
       ":   'numeric'movie_facebook_likes\n",
       ":   'integer'\n",
       "\n"
      ],
      "text/plain": [
       "                    color             director_name    num_critic_for_reviews \n",
       "                 \"factor\"                  \"factor\"                 \"integer\" \n",
       "                 duration   director_facebook_likes    actor_3_facebook_likes \n",
       "                \"integer\"                 \"integer\"                 \"integer\" \n",
       "             actor_2_name    actor_1_facebook_likes                     gross \n",
       "                 \"factor\"                 \"integer\"                 \"integer\" \n",
       "                   genres              actor_1_name               movie_title \n",
       "                 \"factor\"                  \"factor\"                  \"factor\" \n",
       "          num_voted_users cast_total_facebook_likes              actor_3_name \n",
       "                \"integer\"                 \"integer\"                  \"factor\" \n",
       "     facenumber_in_poster             plot_keywords           movie_imdb_link \n",
       "                \"integer\"                  \"factor\"                  \"factor\" \n",
       "     num_user_for_reviews                  language                   country \n",
       "                \"integer\"                  \"factor\"                  \"factor\" \n",
       "           content_rating                    budget                title_year \n",
       "                 \"factor\"                 \"numeric\"                 \"integer\" \n",
       "   actor_2_facebook_likes                imdb_score              aspect_ratio \n",
       "                \"integer\"                 \"numeric\"                 \"numeric\" \n",
       "     movie_facebook_likes \n",
       "                \"integer\" "
      ]
     },
     "metadata": {},
     "output_type": "display_data"
    }
   ],
   "source": [
    "sapply(data[1,],class)"
   ]
  },
  {
   "cell_type": "markdown",
   "metadata": {},
   "source": [
    "Get indices of categorical (factor) variables"
   ]
  },
  {
   "cell_type": "code",
   "execution_count": 10,
   "metadata": {},
   "outputs": [
    {
     "data": {
      "text/html": [
       "<dl class=dl-horizontal>\n",
       "\t<dt>color</dt>\n",
       "\t\t<dd>TRUE</dd>\n",
       "\t<dt>director_name</dt>\n",
       "\t\t<dd>TRUE</dd>\n",
       "\t<dt>num_critic_for_reviews</dt>\n",
       "\t\t<dd>FALSE</dd>\n",
       "\t<dt>duration</dt>\n",
       "\t\t<dd>FALSE</dd>\n",
       "\t<dt>director_facebook_likes</dt>\n",
       "\t\t<dd>FALSE</dd>\n",
       "\t<dt>actor_3_facebook_likes</dt>\n",
       "\t\t<dd>FALSE</dd>\n",
       "\t<dt>actor_2_name</dt>\n",
       "\t\t<dd>TRUE</dd>\n",
       "\t<dt>actor_1_facebook_likes</dt>\n",
       "\t\t<dd>FALSE</dd>\n",
       "\t<dt>gross</dt>\n",
       "\t\t<dd>FALSE</dd>\n",
       "\t<dt>genres</dt>\n",
       "\t\t<dd>TRUE</dd>\n",
       "\t<dt>actor_1_name</dt>\n",
       "\t\t<dd>TRUE</dd>\n",
       "\t<dt>movie_title</dt>\n",
       "\t\t<dd>TRUE</dd>\n",
       "\t<dt>num_voted_users</dt>\n",
       "\t\t<dd>FALSE</dd>\n",
       "\t<dt>cast_total_facebook_likes</dt>\n",
       "\t\t<dd>FALSE</dd>\n",
       "\t<dt>actor_3_name</dt>\n",
       "\t\t<dd>TRUE</dd>\n",
       "\t<dt>facenumber_in_poster</dt>\n",
       "\t\t<dd>FALSE</dd>\n",
       "\t<dt>plot_keywords</dt>\n",
       "\t\t<dd>TRUE</dd>\n",
       "\t<dt>movie_imdb_link</dt>\n",
       "\t\t<dd>TRUE</dd>\n",
       "\t<dt>num_user_for_reviews</dt>\n",
       "\t\t<dd>FALSE</dd>\n",
       "\t<dt>language</dt>\n",
       "\t\t<dd>TRUE</dd>\n",
       "\t<dt>country</dt>\n",
       "\t\t<dd>TRUE</dd>\n",
       "\t<dt>content_rating</dt>\n",
       "\t\t<dd>TRUE</dd>\n",
       "\t<dt>budget</dt>\n",
       "\t\t<dd>FALSE</dd>\n",
       "\t<dt>title_year</dt>\n",
       "\t\t<dd>FALSE</dd>\n",
       "\t<dt>actor_2_facebook_likes</dt>\n",
       "\t\t<dd>FALSE</dd>\n",
       "\t<dt>imdb_score</dt>\n",
       "\t\t<dd>FALSE</dd>\n",
       "\t<dt>aspect_ratio</dt>\n",
       "\t\t<dd>FALSE</dd>\n",
       "\t<dt>movie_facebook_likes</dt>\n",
       "\t\t<dd>FALSE</dd>\n",
       "</dl>\n"
      ],
      "text/latex": [
       "\\begin{description*}\n",
       "\\item[color] TRUE\n",
       "\\item[director\\textbackslash{}\\_name] TRUE\n",
       "\\item[num\\textbackslash{}\\_critic\\textbackslash{}\\_for\\textbackslash{}\\_reviews] FALSE\n",
       "\\item[duration] FALSE\n",
       "\\item[director\\textbackslash{}\\_facebook\\textbackslash{}\\_likes] FALSE\n",
       "\\item[actor\\textbackslash{}\\_3\\textbackslash{}\\_facebook\\textbackslash{}\\_likes] FALSE\n",
       "\\item[actor\\textbackslash{}\\_2\\textbackslash{}\\_name] TRUE\n",
       "\\item[actor\\textbackslash{}\\_1\\textbackslash{}\\_facebook\\textbackslash{}\\_likes] FALSE\n",
       "\\item[gross] FALSE\n",
       "\\item[genres] TRUE\n",
       "\\item[actor\\textbackslash{}\\_1\\textbackslash{}\\_name] TRUE\n",
       "\\item[movie\\textbackslash{}\\_title] TRUE\n",
       "\\item[num\\textbackslash{}\\_voted\\textbackslash{}\\_users] FALSE\n",
       "\\item[cast\\textbackslash{}\\_total\\textbackslash{}\\_facebook\\textbackslash{}\\_likes] FALSE\n",
       "\\item[actor\\textbackslash{}\\_3\\textbackslash{}\\_name] TRUE\n",
       "\\item[facenumber\\textbackslash{}\\_in\\textbackslash{}\\_poster] FALSE\n",
       "\\item[plot\\textbackslash{}\\_keywords] TRUE\n",
       "\\item[movie\\textbackslash{}\\_imdb\\textbackslash{}\\_link] TRUE\n",
       "\\item[num\\textbackslash{}\\_user\\textbackslash{}\\_for\\textbackslash{}\\_reviews] FALSE\n",
       "\\item[language] TRUE\n",
       "\\item[country] TRUE\n",
       "\\item[content\\textbackslash{}\\_rating] TRUE\n",
       "\\item[budget] FALSE\n",
       "\\item[title\\textbackslash{}\\_year] FALSE\n",
       "\\item[actor\\textbackslash{}\\_2\\textbackslash{}\\_facebook\\textbackslash{}\\_likes] FALSE\n",
       "\\item[imdb\\textbackslash{}\\_score] FALSE\n",
       "\\item[aspect\\textbackslash{}\\_ratio] FALSE\n",
       "\\item[movie\\textbackslash{}\\_facebook\\textbackslash{}\\_likes] FALSE\n",
       "\\end{description*}\n"
      ],
      "text/markdown": [
       "color\n",
       ":   TRUEdirector_name\n",
       ":   TRUEnum_critic_for_reviews\n",
       ":   FALSEduration\n",
       ":   FALSEdirector_facebook_likes\n",
       ":   FALSEactor_3_facebook_likes\n",
       ":   FALSEactor_2_name\n",
       ":   TRUEactor_1_facebook_likes\n",
       ":   FALSEgross\n",
       ":   FALSEgenres\n",
       ":   TRUEactor_1_name\n",
       ":   TRUEmovie_title\n",
       ":   TRUEnum_voted_users\n",
       ":   FALSEcast_total_facebook_likes\n",
       ":   FALSEactor_3_name\n",
       ":   TRUEfacenumber_in_poster\n",
       ":   FALSEplot_keywords\n",
       ":   TRUEmovie_imdb_link\n",
       ":   TRUEnum_user_for_reviews\n",
       ":   FALSElanguage\n",
       ":   TRUEcountry\n",
       ":   TRUEcontent_rating\n",
       ":   TRUEbudget\n",
       ":   FALSEtitle_year\n",
       ":   FALSEactor_2_facebook_likes\n",
       ":   FALSEimdb_score\n",
       ":   FALSEaspect_ratio\n",
       ":   FALSEmovie_facebook_likes\n",
       ":   FALSE\n",
       "\n"
      ],
      "text/plain": [
       "                    color             director_name    num_critic_for_reviews \n",
       "                     TRUE                      TRUE                     FALSE \n",
       "                 duration   director_facebook_likes    actor_3_facebook_likes \n",
       "                    FALSE                     FALSE                     FALSE \n",
       "             actor_2_name    actor_1_facebook_likes                     gross \n",
       "                     TRUE                     FALSE                     FALSE \n",
       "                   genres              actor_1_name               movie_title \n",
       "                     TRUE                      TRUE                      TRUE \n",
       "          num_voted_users cast_total_facebook_likes              actor_3_name \n",
       "                    FALSE                     FALSE                      TRUE \n",
       "     facenumber_in_poster             plot_keywords           movie_imdb_link \n",
       "                    FALSE                      TRUE                      TRUE \n",
       "     num_user_for_reviews                  language                   country \n",
       "                    FALSE                      TRUE                      TRUE \n",
       "           content_rating                    budget                title_year \n",
       "                     TRUE                     FALSE                     FALSE \n",
       "   actor_2_facebook_likes                imdb_score              aspect_ratio \n",
       "                    FALSE                     FALSE                     FALSE \n",
       "     movie_facebook_likes \n",
       "                    FALSE "
      ]
     },
     "metadata": {},
     "output_type": "display_data"
    }
   ],
   "source": [
    "factor_variables_bool<-sapply(data[1,],class)==\"factor\"\n",
    "factor_variables_bool"
   ]
  },
  {
   "cell_type": "code",
   "execution_count": 11,
   "metadata": {},
   "outputs": [
    {
     "data": {
      "text/html": [
       "<dl class=dl-horizontal>\n",
       "\t<dt>color</dt>\n",
       "\t\t<dd>1</dd>\n",
       "\t<dt>director_name</dt>\n",
       "\t\t<dd>2</dd>\n",
       "\t<dt>actor_2_name</dt>\n",
       "\t\t<dd>7</dd>\n",
       "\t<dt>genres</dt>\n",
       "\t\t<dd>10</dd>\n",
       "\t<dt>actor_1_name</dt>\n",
       "\t\t<dd>11</dd>\n",
       "\t<dt>movie_title</dt>\n",
       "\t\t<dd>12</dd>\n",
       "\t<dt>actor_3_name</dt>\n",
       "\t\t<dd>15</dd>\n",
       "\t<dt>plot_keywords</dt>\n",
       "\t\t<dd>17</dd>\n",
       "\t<dt>movie_imdb_link</dt>\n",
       "\t\t<dd>18</dd>\n",
       "\t<dt>language</dt>\n",
       "\t\t<dd>20</dd>\n",
       "\t<dt>country</dt>\n",
       "\t\t<dd>21</dd>\n",
       "\t<dt>content_rating</dt>\n",
       "\t\t<dd>22</dd>\n",
       "</dl>\n"
      ],
      "text/latex": [
       "\\begin{description*}\n",
       "\\item[color] 1\n",
       "\\item[director\\textbackslash{}\\_name] 2\n",
       "\\item[actor\\textbackslash{}\\_2\\textbackslash{}\\_name] 7\n",
       "\\item[genres] 10\n",
       "\\item[actor\\textbackslash{}\\_1\\textbackslash{}\\_name] 11\n",
       "\\item[movie\\textbackslash{}\\_title] 12\n",
       "\\item[actor\\textbackslash{}\\_3\\textbackslash{}\\_name] 15\n",
       "\\item[plot\\textbackslash{}\\_keywords] 17\n",
       "\\item[movie\\textbackslash{}\\_imdb\\textbackslash{}\\_link] 18\n",
       "\\item[language] 20\n",
       "\\item[country] 21\n",
       "\\item[content\\textbackslash{}\\_rating] 22\n",
       "\\end{description*}\n"
      ],
      "text/markdown": [
       "color\n",
       ":   1director_name\n",
       ":   2actor_2_name\n",
       ":   7genres\n",
       ":   10actor_1_name\n",
       ":   11movie_title\n",
       ":   12actor_3_name\n",
       ":   15plot_keywords\n",
       ":   17movie_imdb_link\n",
       ":   18language\n",
       ":   20country\n",
       ":   21content_rating\n",
       ":   22\n",
       "\n"
      ],
      "text/plain": [
       "          color   director_name    actor_2_name          genres    actor_1_name \n",
       "              1               2               7              10              11 \n",
       "    movie_title    actor_3_name   plot_keywords movie_imdb_link        language \n",
       "             12              15              17              18              20 \n",
       "        country  content_rating \n",
       "             21              22 "
      ]
     },
     "metadata": {},
     "output_type": "display_data"
    }
   ],
   "source": [
    "factor_variables<-which(sapply(data[1,],class)==\"factor\")\n",
    "factor_variables"
   ]
  },
  {
   "cell_type": "markdown",
   "metadata": {},
   "source": [
    "Remove categorical variables"
   ]
  },
  {
   "cell_type": "code",
   "execution_count": 12,
   "metadata": {},
   "outputs": [
    {
     "data": {
      "text/plain": [
       " num_critic_for_reviews    duration     director_facebook_likes\n",
       " Min.   :  1.00         Min.   : 11.0   Min.   :    0.0        \n",
       " 1st Qu.: 49.25         1st Qu.: 93.0   1st Qu.:    6.0        \n",
       " Median :108.50         Median :104.0   Median :   44.0        \n",
       " Mean   :143.49         Mean   :107.7   Mean   :  735.7        \n",
       " 3rd Qu.:202.50         3rd Qu.:118.0   3rd Qu.:  188.0        \n",
       " Max.   :813.00         Max.   :511.0   Max.   :22000.0        \n",
       " NA's   :10             NA's   :2       NA's   :20             \n",
       " actor_3_facebook_likes actor_1_facebook_likes     gross          \n",
       " Min.   :    0.0        Min.   :     0.0       Min.   :     1332  \n",
       " 1st Qu.:  123.0        1st Qu.:   591.2       1st Qu.:  5895238  \n",
       " Median :  362.0        Median :   983.0       Median : 28031250  \n",
       " Mean   :  618.1        Mean   :  6594.5       Mean   : 52916026  \n",
       " 3rd Qu.:  637.5        3rd Qu.: 11000.0       3rd Qu.: 64933670  \n",
       " Max.   :23000.0        Max.   :260000.0       Max.   :533316061  \n",
       " NA's   :5              NA's   :2              NA's   :175        \n",
       " num_voted_users   cast_total_facebook_likes facenumber_in_poster\n",
       " Min.   :     13   Min.   :     0            Min.   : 0.000      \n",
       " 1st Qu.:   8143   1st Qu.:  1344            1st Qu.: 0.000      \n",
       " Median :  31808   Median :  2982            Median : 1.000      \n",
       " Mean   :  93131   Mean   :  9696            Mean   : 1.422      \n",
       " 3rd Qu.: 102979   3rd Qu.: 13766            3rd Qu.: 2.000      \n",
       " Max.   :1689764   Max.   :283939            Max.   :43.000      \n",
       "                                             NA's   :2           \n",
       " num_user_for_reviews     budget            title_year   actor_2_facebook_likes\n",
       " Min.   :   1.0       Min.   :    10000   Min.   :1929   Min.   :    0         \n",
       " 1st Qu.:  64.0       1st Qu.:  6000000   1st Qu.:1999   1st Qu.:  288         \n",
       " Median : 149.5       Median : 20000000   Median :2005   Median :  611         \n",
       " Mean   : 285.8       Mean   : 34077007   Mean   :2003   Mean   : 1665         \n",
       " 3rd Qu.: 343.8       3rd Qu.: 45000000   3rd Qu.:2011   3rd Qu.:  904         \n",
       " Max.   :4667.0       Max.   :258000000   Max.   :2016   Max.   :25000         \n",
       " NA's   :6            NA's   :94          NA's   :20     NA's   :3             \n",
       "   imdb_score     aspect_ratio    movie_facebook_likes\n",
       " Min.   :1.600   Min.   : 1.180   Min.   :     0      \n",
       " 1st Qu.:5.800   1st Qu.: 1.850   1st Qu.:     0      \n",
       " Median :6.600   Median : 2.350   Median :   182      \n",
       " Mean   :6.454   Mean   : 2.205   Mean   :  8375      \n",
       " 3rd Qu.:7.200   3rd Qu.: 2.350   3rd Qu.:  2000      \n",
       " Max.   :9.300   Max.   :16.000   Max.   :199000      \n",
       "                 NA's   :67                           "
      ]
     },
     "metadata": {},
     "output_type": "display_data"
    }
   ],
   "source": [
    "data_preprocessed<-data[,-factor_variables]\n",
    "summary(data_preprocessed)"
   ]
  },
  {
   "cell_type": "markdown",
   "metadata": {},
   "source": [
    "### Replace NA values with mean values"
   ]
  },
  {
   "cell_type": "code",
   "execution_count": 62,
   "metadata": {},
   "outputs": [],
   "source": [
    "replace_na_with_mean_value<-function(vec) {\n",
    "    mean_vec<-mean(vec,na.rm=T)\n",
    "    vec[is.na(vec)]<-mean_vec\n",
    "    vec\n",
    "}"
   ]
  },
  {
   "cell_type": "code",
   "execution_count": 63,
   "metadata": {},
   "outputs": [
    {
     "data": {
      "text/plain": [
       " num_critic_for_reviews    duration     director_facebook_likes\n",
       " Min.   :  1.0          Min.   : 11.0   Min.   :    0.0        \n",
       " 1st Qu.: 50.0          1st Qu.: 93.0   1st Qu.:    7.0        \n",
       " Median :110.0          Median :104.0   Median :   47.5        \n",
       " Mean   :143.5          Mean   :107.7   Mean   :  735.7        \n",
       " 3rd Qu.:199.0          3rd Qu.:118.0   3rd Qu.:  210.5        \n",
       " Max.   :813.0          Max.   :511.0   Max.   :22000.0        \n",
       " actor_3_facebook_likes actor_1_facebook_likes     gross          \n",
       " Min.   :    0.0        Min.   :     0.0       Min.   :     1332  \n",
       " 1st Qu.:  123.8        1st Qu.:   591.8       1st Qu.:  9709388  \n",
       " Median :  366.0        Median :   984.5       Median : 39670256  \n",
       " Mean   :  618.1        Mean   :  6594.5       Mean   : 52916026  \n",
       " 3rd Qu.:  635.5        3rd Qu.: 11000.0       3rd Qu.: 54422773  \n",
       " Max.   :23000.0        Max.   :260000.0       Max.   :533316061  \n",
       " num_voted_users   cast_total_facebook_likes facenumber_in_poster\n",
       " Min.   :     13   Min.   :     0            Min.   : 0.000      \n",
       " 1st Qu.:   8143   1st Qu.:  1344            1st Qu.: 0.000      \n",
       " Median :  31808   Median :  2982            Median : 1.000      \n",
       " Mean   :  93131   Mean   :  9696            Mean   : 1.422      \n",
       " 3rd Qu.: 102979   3rd Qu.: 13766            3rd Qu.: 2.000      \n",
       " Max.   :1689764   Max.   :283939            Max.   :43.000      \n",
       " num_user_for_reviews     budget            title_year   actor_2_facebook_likes\n",
       " Min.   :   1.0       Min.   :    10000   Min.   :1929   Min.   :    0.0       \n",
       " 1st Qu.:  64.0       1st Qu.:  7000000   1st Qu.:1999   1st Qu.:  289.5       \n",
       " Median : 150.0       Median : 23000000   Median :2005   Median :  611.5       \n",
       " Mean   : 285.8       Mean   : 34077007   Mean   :2003   Mean   : 1664.6       \n",
       " 3rd Qu.: 340.0       3rd Qu.: 40000000   3rd Qu.:2011   3rd Qu.:  909.0       \n",
       " Max.   :4667.0       Max.   :258000000   Max.   :2016   Max.   :25000.0       \n",
       "   imdb_score     aspect_ratio    movie_facebook_likes\n",
       " Min.   :1.600   Min.   : 1.180   Min.   :     0      \n",
       " 1st Qu.:5.800   1st Qu.: 1.850   1st Qu.:     0      \n",
       " Median :6.600   Median : 2.205   Median :   182      \n",
       " Mean   :6.454   Mean   : 2.205   Mean   :  8375      \n",
       " 3rd Qu.:7.200   3rd Qu.: 2.350   3rd Qu.:  2000      \n",
       " Max.   :9.300   Max.   :16.000   Max.   :199000      "
      ]
     },
     "metadata": {},
     "output_type": "display_data"
    }
   ],
   "source": [
    "data_preprocessed<-data.frame(apply(data_preprocessed,2,replace_na_with_mean_value))\n",
    "summary(data_preprocessed)"
   ]
  },
  {
   "cell_type": "markdown",
   "metadata": {},
   "source": [
    "### Input and output variables"
   ]
  },
  {
   "cell_type": "markdown",
   "metadata": {},
   "source": [
    "The output variable (Y) is the `imdb_score`, and all other variables (X) are considered as inputs."
   ]
  },
  {
   "cell_type": "code",
   "execution_count": 20,
   "metadata": {},
   "outputs": [
    {
     "data": {
      "text/html": [
       "<ol class=list-inline>\n",
       "\t<li>'num_critic_for_reviews'</li>\n",
       "\t<li>'duration'</li>\n",
       "\t<li>'director_facebook_likes'</li>\n",
       "\t<li>'actor_3_facebook_likes'</li>\n",
       "\t<li>'actor_1_facebook_likes'</li>\n",
       "\t<li>'gross'</li>\n",
       "\t<li>'num_voted_users'</li>\n",
       "\t<li>'cast_total_facebook_likes'</li>\n",
       "\t<li>'facenumber_in_poster'</li>\n",
       "\t<li>'num_user_for_reviews'</li>\n",
       "\t<li>'budget'</li>\n",
       "\t<li>'title_year'</li>\n",
       "\t<li>'actor_2_facebook_likes'</li>\n",
       "\t<li>'imdb_score'</li>\n",
       "\t<li>'aspect_ratio'</li>\n",
       "\t<li>'movie_facebook_likes'</li>\n",
       "</ol>\n"
      ],
      "text/latex": [
       "\\begin{enumerate*}\n",
       "\\item 'num\\_critic\\_for\\_reviews'\n",
       "\\item 'duration'\n",
       "\\item 'director\\_facebook\\_likes'\n",
       "\\item 'actor\\_3\\_facebook\\_likes'\n",
       "\\item 'actor\\_1\\_facebook\\_likes'\n",
       "\\item 'gross'\n",
       "\\item 'num\\_voted\\_users'\n",
       "\\item 'cast\\_total\\_facebook\\_likes'\n",
       "\\item 'facenumber\\_in\\_poster'\n",
       "\\item 'num\\_user\\_for\\_reviews'\n",
       "\\item 'budget'\n",
       "\\item 'title\\_year'\n",
       "\\item 'actor\\_2\\_facebook\\_likes'\n",
       "\\item 'imdb\\_score'\n",
       "\\item 'aspect\\_ratio'\n",
       "\\item 'movie\\_facebook\\_likes'\n",
       "\\end{enumerate*}\n"
      ],
      "text/markdown": [
       "1. 'num_critic_for_reviews'\n",
       "2. 'duration'\n",
       "3. 'director_facebook_likes'\n",
       "4. 'actor_3_facebook_likes'\n",
       "5. 'actor_1_facebook_likes'\n",
       "6. 'gross'\n",
       "7. 'num_voted_users'\n",
       "8. 'cast_total_facebook_likes'\n",
       "9. 'facenumber_in_poster'\n",
       "10. 'num_user_for_reviews'\n",
       "11. 'budget'\n",
       "12. 'title_year'\n",
       "13. 'actor_2_facebook_likes'\n",
       "14. 'imdb_score'\n",
       "15. 'aspect_ratio'\n",
       "16. 'movie_facebook_likes'\n",
       "\n",
       "\n"
      ],
      "text/plain": [
       " [1] \"num_critic_for_reviews\"    \"duration\"                 \n",
       " [3] \"director_facebook_likes\"   \"actor_3_facebook_likes\"   \n",
       " [5] \"actor_1_facebook_likes\"    \"gross\"                    \n",
       " [7] \"num_voted_users\"           \"cast_total_facebook_likes\"\n",
       " [9] \"facenumber_in_poster\"      \"num_user_for_reviews\"     \n",
       "[11] \"budget\"                    \"title_year\"               \n",
       "[13] \"actor_2_facebook_likes\"    \"imdb_score\"               \n",
       "[15] \"aspect_ratio\"              \"movie_facebook_likes\"     "
      ]
     },
     "metadata": {},
     "output_type": "display_data"
    }
   ],
   "source": [
    "colnames(data_preprocessed)"
   ]
  },
  {
   "cell_type": "code",
   "execution_count": 21,
   "metadata": {},
   "outputs": [
    {
     "data": {
      "text/html": [
       "<ol class=list-inline>\n",
       "\t<li>'num_critic_for_reviews'</li>\n",
       "\t<li>'duration'</li>\n",
       "\t<li>'director_facebook_likes'</li>\n",
       "\t<li>'actor_3_facebook_likes'</li>\n",
       "\t<li>'actor_1_facebook_likes'</li>\n",
       "\t<li>'gross'</li>\n",
       "\t<li>'num_voted_users'</li>\n",
       "\t<li>'cast_total_facebook_likes'</li>\n",
       "\t<li>'facenumber_in_poster'</li>\n",
       "\t<li>'num_user_for_reviews'</li>\n",
       "\t<li>'budget'</li>\n",
       "\t<li>'title_year'</li>\n",
       "\t<li>'actor_2_facebook_likes'</li>\n",
       "\t<li>'aspect_ratio'</li>\n",
       "\t<li>'movie_facebook_likes'</li>\n",
       "</ol>\n"
      ],
      "text/latex": [
       "\\begin{enumerate*}\n",
       "\\item 'num\\_critic\\_for\\_reviews'\n",
       "\\item 'duration'\n",
       "\\item 'director\\_facebook\\_likes'\n",
       "\\item 'actor\\_3\\_facebook\\_likes'\n",
       "\\item 'actor\\_1\\_facebook\\_likes'\n",
       "\\item 'gross'\n",
       "\\item 'num\\_voted\\_users'\n",
       "\\item 'cast\\_total\\_facebook\\_likes'\n",
       "\\item 'facenumber\\_in\\_poster'\n",
       "\\item 'num\\_user\\_for\\_reviews'\n",
       "\\item 'budget'\n",
       "\\item 'title\\_year'\n",
       "\\item 'actor\\_2\\_facebook\\_likes'\n",
       "\\item 'aspect\\_ratio'\n",
       "\\item 'movie\\_facebook\\_likes'\n",
       "\\end{enumerate*}\n"
      ],
      "text/markdown": [
       "1. 'num_critic_for_reviews'\n",
       "2. 'duration'\n",
       "3. 'director_facebook_likes'\n",
       "4. 'actor_3_facebook_likes'\n",
       "5. 'actor_1_facebook_likes'\n",
       "6. 'gross'\n",
       "7. 'num_voted_users'\n",
       "8. 'cast_total_facebook_likes'\n",
       "9. 'facenumber_in_poster'\n",
       "10. 'num_user_for_reviews'\n",
       "11. 'budget'\n",
       "12. 'title_year'\n",
       "13. 'actor_2_facebook_likes'\n",
       "14. 'aspect_ratio'\n",
       "15. 'movie_facebook_likes'\n",
       "\n",
       "\n"
      ],
      "text/plain": [
       " [1] \"num_critic_for_reviews\"    \"duration\"                 \n",
       " [3] \"director_facebook_likes\"   \"actor_3_facebook_likes\"   \n",
       " [5] \"actor_1_facebook_likes\"    \"gross\"                    \n",
       " [7] \"num_voted_users\"           \"cast_total_facebook_likes\"\n",
       " [9] \"facenumber_in_poster\"      \"num_user_for_reviews\"     \n",
       "[11] \"budget\"                    \"title_year\"               \n",
       "[13] \"actor_2_facebook_likes\"    \"aspect_ratio\"             \n",
       "[15] \"movie_facebook_likes\"     "
      ]
     },
     "metadata": {},
     "output_type": "display_data"
    }
   ],
   "source": [
    "setdiff(colnames(data_preprocessed),\"imdb_score\")"
   ]
  },
  {
   "cell_type": "code",
   "execution_count": 16,
   "metadata": {},
   "outputs": [],
   "source": [
    "set.seed(3)\n",
    "\n",
    "X<-data_preprocessed[,setdiff(colnames(data_preprocessed),\"imdb_score\")]\n",
    "Y<-data_preprocessed[,\"imdb_score\"]\n",
    "\n",
    "N<-nrow(X)    #Number of examples\n",
    "n<-ncol(X)    #Number of input variables\n"
   ]
  },
  {
   "cell_type": "markdown",
   "metadata": {},
   "source": [
    "Distribution of the `imdb_score`"
   ]
  },
  {
   "cell_type": "code",
   "execution_count": 22,
   "metadata": {},
   "outputs": [
    {
     "data": {
      "image/png": "[encoded data removed]",
      "text/plain": [
       "Plot with title \"Histogram of Y\""
      ]
     },
     "metadata": {},
     "output_type": "display_data"
    }
   ],
   "source": [
    "hist(Y)"
   ]
  },
  {
   "cell_type": "code",
   "execution_count": 23,
   "metadata": {},
   "outputs": [
    {
     "data": {
      "text/html": [
       "6.4543"
      ],
      "text/latex": [
       "6.4543"
      ],
      "text/markdown": [
       "6.4543"
      ],
      "text/plain": [
       "[1] 6.4543"
      ]
     },
     "metadata": {},
     "output_type": "display_data"
    }
   ],
   "source": [
    "mean(Y)"
   ]
  },
  {
   "cell_type": "code",
   "execution_count": 24,
   "metadata": {},
   "outputs": [
    {
     "data": {
      "text/html": [
       "1.26736887887888"
      ],
      "text/latex": [
       "1.26736887887888"
      ],
      "text/markdown": [
       "1.26736887887888"
      ],
      "text/plain": [
       "[1] 1.267369"
      ]
     },
     "metadata": {},
     "output_type": "display_data"
    }
   ],
   "source": [
    "var(Y)"
   ]
  },
  {
   "cell_type": "markdown",
   "metadata": {},
   "source": [
    "### 1) Modelling with linear and decision tree models\n",
    "\n",
    "#### Linear model"
   ]
  },
  {
   "cell_type": "markdown",
   "metadata": {},
   "source": [
    "* Let us create a linear model for predicting the IMDB score on the basis of the other variables, and compute its empricial mean square error"
   ]
  },
  {
   "cell_type": "code",
   "execution_count": 64,
   "metadata": {},
   "outputs": [
    {
     "name": "stdout",
     "output_type": "stream",
     "text": [
      "[1] \"Empirical error= 0.8696\"\n"
     ]
    }
   ],
   "source": [
    "DS<-cbind(X,imdb_score=Y)\n",
    "    \n",
    "model<- lm(imdb_score~.,DS) ### Fill with your code here\n",
    "        \n",
    "Y.hat<- predict(model,X)\n",
    "        \n",
    "empirical_error<-mean((Y.hat-Y)^2) ### Fill with your code here\n",
    "\n",
    "print(paste(\"Empirical error=\",round(empirical_error,digits=4)))\n",
    "\n"
   ]
  },
  {
   "cell_type": "markdown",
   "metadata": {},
   "source": [
    "* Which input variables are statistically correlated with the output?"
   ]
  },
  {
   "cell_type": "code",
   "execution_count": 26,
   "metadata": {},
   "outputs": [
    {
     "data": {
      "text/plain": [
       "\n",
       "Call:\n",
       "lm(formula = imdb_score ~ ., data = DS)\n",
       "\n",
       "Residuals:\n",
       "    Min      1Q  Median      3Q     Max \n",
       "-4.3647 -0.4775  0.0631  0.5847  3.5134 \n",
       "\n",
       "Coefficients:\n",
       "                            Estimate Std. Error t value Pr(>|t|)    \n",
       "(Intercept)                4.973e+01  5.479e+00   9.077  < 2e-16 ***\n",
       "num_critic_for_reviews     2.807e-03  4.120e-04   6.814 1.65e-11 ***\n",
       "duration                   3.270e-03  1.225e-03   2.669  0.00772 ** \n",
       "director_facebook_likes    9.857e-06  1.093e-05   0.902  0.36727    \n",
       "actor_3_facebook_likes     3.486e-05  4.959e-05   0.703  0.48229    \n",
       "actor_1_facebook_likes     5.120e-05  2.584e-05   1.981  0.04782 *  \n",
       "gross                     -7.961e-10  6.694e-10  -1.189  0.23464    \n",
       "num_voted_users            3.453e-06  3.730e-07   9.256  < 2e-16 ***\n",
       "cast_total_facebook_likes -5.180e-05  2.558e-05  -2.025  0.04312 *  \n",
       "facenumber_in_poster      -9.942e-03  1.300e-02  -0.765  0.44472    \n",
       "num_user_for_reviews      -5.356e-04  1.359e-04  -3.942 8.66e-05 ***\n",
       "budget                    -2.018e-09  1.073e-09  -1.880  0.06041 .  \n",
       "title_year                -2.205e-02  2.735e-03  -8.063 2.15e-15 ***\n",
       "actor_2_facebook_likes     6.905e-05  2.714e-05   2.544  0.01111 *  \n",
       "aspect_ratio               6.334e-02  2.382e-02   2.659  0.00796 ** \n",
       "movie_facebook_likes      -2.936e-06  2.073e-06  -1.417  0.15685    \n",
       "---\n",
       "Signif. codes:  0 '***' 0.001 '**' 0.01 '*' 0.05 '.' 0.1 ' ' 1\n",
       "\n",
       "Residual standard error: 0.9401 on 984 degrees of freedom\n",
       "Multiple R-squared:  0.3132,\tAdjusted R-squared:  0.3027 \n",
       "F-statistic: 29.91 on 15 and 984 DF,  p-value: < 2.2e-16\n"
      ]
     },
     "metadata": {},
     "output_type": "display_data"
    }
   ],
   "source": [
    "summary(model)"
   ]
  },
  {
   "cell_type": "markdown",
   "metadata": {},
   "source": [
    "* Compute the validation error with a 10-fold cross-validation"
   ]
  },
  {
   "cell_type": "code",
   "execution_count": 27,
   "metadata": {},
   "outputs": [
    {
     "name": "stdout",
     "output_type": "stream",
     "text": [
      "[1] \"CV error= 0.9138  ; std dev= 0.1508\"\n"
     ]
    }
   ],
   "source": [
    "size.CV<-floor(N/10)\n",
    "\n",
    "CV.err<-numeric(10)\n",
    "\n",
    "for (i in 1:10) {\n",
    "     i.ts<-(((i-1)*size.CV+1):(i*size.CV))  ### Complete the code. i.ts should be the indices of the tessefor the i-th fold\n",
    "     X.ts<-X[i.ts,]  \n",
    "     Y.ts<-Y[i.ts]  \n",
    "     \n",
    "     i.tr<-setdiff(1:N,i.ts)                ### Complete the code. i.tr should be the indices of the training sefor the i-th fold\n",
    "     X.tr<-X[i.tr,]\n",
    "     Y.tr<-Y[i.tr]                          \n",
    "     \n",
    "     DS<-cbind(X.tr,imdb_score=Y.tr)\n",
    "    \n",
    "     model<- lm(imdb_score~.,DS)\n",
    "        \n",
    "     Y.hat.ts<- predict(model,X.ts)\n",
    "        \n",
    "     CV.err[i]<-mean((Y.hat.ts-Y.ts)^2)\n",
    "}\n",
    "    \n",
    "\n",
    "print(paste(\"CV error=\",round(mean(CV.err),digits=4), \" ; std dev=\",round(sd(CV.err),digits=4)))\n",
    "\n"
   ]
  },
  {
   "cell_type": "markdown",
   "metadata": {},
   "source": [
    "#### Decision tree"
   ]
  },
  {
   "cell_type": "markdown",
   "metadata": {},
   "source": [
    "* Modify the previous code to compute the empirical error using a decision tree model. Use the rpart package (see `?rpart` for help)"
   ]
  },
  {
   "cell_type": "code",
   "execution_count": 28,
   "metadata": {},
   "outputs": [],
   "source": [
    "library(rpart)       ### Run install.packages(\"rpart\") to install"
   ]
  },
  {
   "cell_type": "code",
   "execution_count": 29,
   "metadata": {},
   "outputs": [
    {
     "name": "stdout",
     "output_type": "stream",
     "text": [
      "[1] \"Empirical error= 0.6889\"\n"
     ]
    }
   ],
   "source": [
    "DS<-cbind(X,imdb_score=Y)\n",
    "\n",
    "model<- rpart(imdb_score~.,DS) ### Fill with you code here\n",
    "        \n",
    "Y.hat<- predict(model,X)\n",
    "        \n",
    "empirical_error<-mean((Y.hat-Y)^2) \n",
    "\n",
    "print(paste(\"Empirical error=\",round(empirical_error,digits=4)))\n",
    "\n"
   ]
  },
  {
   "cell_type": "markdown",
   "metadata": {},
   "source": [
    "* Plot the resulting tree using the `prp` function from the library `rpart.plot`"
   ]
  },
  {
   "cell_type": "code",
   "execution_count": 30,
   "metadata": {},
   "outputs": [
    {
     "name": "stderr",
     "output_type": "stream",
     "text": [
      "Warning message:\n",
      "\"package 'rpart.plot' was built under R version 3.4.4\""
     ]
    }
   ],
   "source": [
    "library(rpart.plot)  ### Run install.packages(\"rpart.plot\") to install"
   ]
  },
  {
   "cell_type": "code",
   "execution_count": 31,
   "metadata": {},
   "outputs": [
    {
     "data": {
      "image/png": "[encoded data removed]",
      "text/plain": [
       "plot without title"
      ]
     },
     "metadata": {},
     "output_type": "display_data"
    }
   ],
   "source": [
    "prp(model)"
   ]
  },
  {
   "cell_type": "markdown",
   "metadata": {},
   "source": [
    "* What is the 10-fold cross-validation error using a decision tree model?"
   ]
  },
  {
   "cell_type": "code",
   "execution_count": 32,
   "metadata": {},
   "outputs": [
    {
     "name": "stdout",
     "output_type": "stream",
     "text": [
      "[1] \"CV error= 0.8718  ; std dev= 0.1016\"\n"
     ]
    }
   ],
   "source": [
    "size.CV<-floor(N/10)\n",
    "\n",
    "CV.err<-numeric(10)\n",
    "\n",
    "for (i in 1:10) {\n",
    "    fix sedd\n",
    "     i.ts<-(((i-1)*size.CV+1):(i*size.CV))  \n",
    "     X.ts<-X[i.ts,]  \n",
    "     Y.ts<-Y[i.ts]  \n",
    "     \n",
    "     i.tr<-setdiff(1:N,i.ts)                \n",
    "     X.tr<-X[i.tr,]\n",
    "     Y.tr<-Y[i.tr]                          \n",
    "     \n",
    "     DS<-cbind(X.tr,imdb_score=Y.tr)\n",
    "    \n",
    "     model<- rpart(imdb_score~.,DS)\n",
    "        \n",
    "     Y.hat.ts<- predict(model,X.ts)\n",
    "        \n",
    "     CV.err[i]<-mean((Y.hat.ts-Y.ts)^2)\n",
    "    }\n",
    "    \n",
    "\n",
    "print(paste(\"CV error=\",round(mean(CV.err),digits=4), \" ; std dev=\",round(sd(CV.err),digits=4)))\n",
    "\n"
   ]
  },
  {
   "cell_type": "markdown",
   "metadata": {},
   "source": [
    "## 2) Ensemble of models"
   ]
  },
  {
   "cell_type": "markdown",
   "metadata": {},
   "source": [
    "Let us now create an ensemble of R linear models to make predictions. Complete the code below so that\n",
    "\n",
    "* The training set is resampled before building a model\n",
    "* The predictions of all model are averaged before testing"
   ]
  },
  {
   "cell_type": "code",
   "execution_count": 33,
   "metadata": {},
   "outputs": [
    {
     "name": "stdout",
     "output_type": "stream",
     "text": [
      "[1] \"CV error= 0.9127  ; std dev= 0.1528\"\n"
     ]
    }
   ],
   "source": [
    "size.CV<-floor(N/10)\n",
    "R<-20\n",
    "\n",
    "CV.err<-numeric(10)\n",
    "\n",
    "for (i in 1:10) {\n",
    "     i.ts<-(((i-1)*size.CV+1):(i*size.CV))  \n",
    "     X.ts<-X[i.ts,]  \n",
    "     Y.ts<-Y[i.ts]  \n",
    "     \n",
    "     \n",
    "     i.tr<-setdiff(1:N,i.ts)                \n",
    "    \n",
    "     Y.hat.ts.R<-matrix(0,nrow=nrow(X.ts),ncol=R)\n",
    "    \n",
    "     for (r in 1:R) {\n",
    "         i.tr.resample<-sample(i.tr,rep=T)\n",
    "         X.tr<-X[i.tr.resample,]\n",
    "         Y.tr<-Y[i.tr.resample]                          \n",
    "     \n",
    "         DS<-cbind(X.tr,imdb_score=Y.tr)\n",
    "    \n",
    "         model<- lm(imdb_score~.,DS)\n",
    "        \n",
    "         Y.hat.ts.R[,r]<- predict(model,X.ts)\n",
    "     \n",
    "     }\n",
    "    \n",
    "     Y.hat.ts<-apply(Y.hat.ts.R,1,mean)\n",
    "     CV.err[i]<-mean((Y.hat.ts-Y.ts)^2)\n",
    "     }\n",
    "\n",
    "print(paste(\"CV error=\",round(mean(CV.err),digits=4), \" ; std dev=\",round(sd(CV.err),digits=4)))\n"
   ]
  },
  {
   "cell_type": "markdown",
   "metadata": {},
   "source": [
    "* Is the CV error lower than with a single linear model?\n",
    "* Use a decision tree as the base model. Is the CV error lower?"
   ]
  },
  {
   "cell_type": "markdown",
   "metadata": {},
   "source": [
    "## 3) Feature selection\n",
    "\n",
    "Two are the main approaches to feature selection:\n",
    "\n",
    "\n",
    "* **Filter methods:** they are preprocessing methods. They attempt to\n",
    "assess the merits of features from the data, ignoring the effects of\n",
    "the selected feature subset on the performance of the learning\n",
    "algorithm. Examples are methods that select variables by ranking them\n",
    "through compression techniques (like PCA), or by computing correlation or a more advanced similarity measure such as minimum redundancy maximum relevance (mRMR) with the output.\n",
    "\n",
    "*  **Wrapper methods:** these methods assess subsets of variables\n",
    "according to their usefulness to a given predictor. The method\n",
    "conducts a search for a good subset using the learning algorithm\n",
    "itself as part of the evaluation function. The problem boils \n",
    "down to a problem of stochastic state space search. Example\n",
    "are the stepwise methods proposed in linear regression analysis.\n",
    "\n"
   ]
  },
  {
   "cell_type": "markdown",
   "metadata": {},
   "source": [
    "### Filter methods"
   ]
  },
  {
   "cell_type": "markdown",
   "metadata": {},
   "source": [
    "#### Correlation with the output\n",
    "\n",
    "* The following code performs features selection by keeping the most correlated variables with the output. Compare the results for linear models and decision trees. What are the smallest CV errors, and how many features were needed?\n"
   ]
  },
  {
   "cell_type": "code",
   "execution_count": 34,
   "metadata": {},
   "outputs": [
    {
     "name": "stdout",
     "output_type": "stream",
     "text": [
      " [1] \"#Features:  1  ; CV error= 1.0018  ; std dev= 0.0678\" \n",
      " [2] \"#Features:  2  ; CV error= 0.9915  ; std dev= 0.0706\" \n",
      " [3] \"#Features:  3  ; CV error= 0.9824  ; std dev= 0.0852\" \n",
      " [4] \"#Features:  4  ; CV error= 0.9812  ; std dev= 0.0804\" \n",
      " [5] \"#Features:  5  ; CV error= 0.9828  ; std dev= 0.0972\" \n",
      " [6] \"#Features:  6  ; CV error= 0.968  ; std dev= 0.0912\"  \n",
      " [7] \"#Features:  7  ; CV error= 0.9181  ; std dev= 0.1027\" \n",
      " [8] \"#Features:  8  ; CV error= 0.9088  ; std dev= 0.1126\" \n",
      " [9] \"#Features:  9  ; CV error= 0.9098  ; std dev= 0.114\"  \n",
      "[10] \"#Features:  10  ; CV error= 0.9081  ; std dev= 0.1213\"\n",
      "[11] \"#Features:  11  ; CV error= 0.9111  ; std dev= 0.1198\"\n",
      "[12] \"#Features:  12  ; CV error= 0.9098  ; std dev= 0.1211\"\n",
      "[13] \"#Features:  13  ; CV error= 0.9141  ; std dev= 0.1413\"\n",
      "[14] \"#Features:  14  ; CV error= 0.9243  ; std dev= 0.145\" \n",
      "[15] \"#Features:  15  ; CV error= 0.9138  ; std dev= 0.1508\"\n"
     ]
    }
   ],
   "source": [
    "size.CV<-floor(N/10)\n",
    "\n",
    "CV.err<-matrix(0,nrow=n,ncol=10)\n",
    "\n",
    "for (i in 1:10) {\n",
    "    i.ts<-(((i-1)*size.CV+1):(i*size.CV))  \n",
    "    X.ts<-X[i.ts,]  \n",
    "    Y.ts<-Y[i.ts]  \n",
    "     \n",
    "    i.tr<-setdiff(1:N,i.ts)\n",
    "    X.tr<-X[i.tr,]\n",
    "    Y.tr<-Y[i.tr]\n",
    "     \n",
    "    correlation<-abs(cor(X.tr,Y.tr))\n",
    "    ranking<-sort(correlation,dec=T,index.return=T)$ix\n",
    "     \n",
    "    for (nb_features in 1:n) {\n",
    "        DS<-cbind(X.tr[,ranking[1:nb_features],drop=F],imdb_score=Y.tr)\n",
    "        model<- lm(imdb_score~.,DS)\n",
    "        \n",
    "        Y.hat.ts<- predict(model,X.ts[,ranking[1:nb_features],drop=F])\n",
    "        \n",
    "        CV.err[nb_features,i]<-mean((Y.hat.ts-Y.ts)^2)\n",
    "    }\n",
    "}  \n",
    "\n",
    "print(paste(\"#Features: \",c(1:n),\" ; CV error=\",round(apply(CV.err,1,mean),digits=4), \" ; std dev=\",round(apply(CV.err,1,sd),digits=4)))\n",
    "\n"
   ]
  },
  {
   "cell_type": "code",
   "execution_count": 35,
   "metadata": {},
   "outputs": [
    {
     "data": {
      "text/html": [
       "<ol class=list-inline>\n",
       "\t<li>7</li>\n",
       "\t<li>1</li>\n",
       "\t<li>10</li>\n",
       "\t<li>15</li>\n",
       "\t<li>6</li>\n",
       "\t<li>2</li>\n",
       "\t<li>12</li>\n",
       "\t<li>3</li>\n",
       "\t<li>13</li>\n",
       "\t<li>11</li>\n",
       "\t<li>4</li>\n",
       "\t<li>8</li>\n",
       "\t<li>5</li>\n",
       "\t<li>9</li>\n",
       "\t<li>14</li>\n",
       "</ol>\n"
      ],
      "text/latex": [
       "\\begin{enumerate*}\n",
       "\\item 7\n",
       "\\item 1\n",
       "\\item 10\n",
       "\\item 15\n",
       "\\item 6\n",
       "\\item 2\n",
       "\\item 12\n",
       "\\item 3\n",
       "\\item 13\n",
       "\\item 11\n",
       "\\item 4\n",
       "\\item 8\n",
       "\\item 5\n",
       "\\item 9\n",
       "\\item 14\n",
       "\\end{enumerate*}\n"
      ],
      "text/markdown": [
       "1. 7\n",
       "2. 1\n",
       "3. 10\n",
       "4. 15\n",
       "5. 6\n",
       "6. 2\n",
       "7. 12\n",
       "8. 3\n",
       "9. 13\n",
       "10. 11\n",
       "11. 4\n",
       "12. 8\n",
       "13. 5\n",
       "14. 9\n",
       "15. 14\n",
       "\n",
       "\n"
      ],
      "text/plain": [
       " [1]  7  1 10 15  6  2 12  3 13 11  4  8  5  9 14"
      ]
     },
     "metadata": {},
     "output_type": "display_data"
    }
   ],
   "source": [
    "ranking"
   ]
  },
  {
   "cell_type": "markdown",
   "metadata": {},
   "source": [
    "#### mRMR\n",
    "\n",
    "* The following code performs features selection by using the mRMR approach (see slides 49-52 of the course http://uv.ulb.ac.be/pluginfile.php/874401/mod_resource/content/2/fsel.pdf). Compare the results for linear models and decision trees. What are the smallest CV errors, and how many features were needed?\n"
   ]
  },
  {
   "cell_type": "code",
   "execution_count": 58,
   "metadata": {},
   "outputs": [
    {
     "data": {
      "text/html": [
       "<ol class=list-inline>\n",
       "\t<li>0</li>\n",
       "\t<li>0</li>\n",
       "\t<li>0</li>\n",
       "</ol>\n"
      ],
      "text/latex": [
       "\\begin{enumerate*}\n",
       "\\item 0\n",
       "\\item 0\n",
       "\\item 0\n",
       "\\end{enumerate*}\n"
      ],
      "text/markdown": [
       "1. 0\n",
       "2. 0\n",
       "3. 0\n",
       "\n",
       "\n"
      ],
      "text/plain": [
       "[1] 0 0 0"
      ]
     },
     "metadata": {},
     "output_type": "display_data"
    }
   ],
   "source": [
    "numeric(3)"
   ]
  },
  {
   "cell_type": "code",
   "execution_count": 36,
   "metadata": {},
   "outputs": [
    {
     "name": "stdout",
     "output_type": "stream",
     "text": [
      " [1] \"#Features:  1  ; CV error= 1.0018  ; std dev= 0.0678\" \n",
      " [2] \"#Features:  2  ; CV error= 0.9618  ; std dev= 0.081\"  \n",
      " [3] \"#Features:  3  ; CV error= 0.9567  ; std dev= 0.0998\" \n",
      " [4] \"#Features:  4  ; CV error= 0.9591  ; std dev= 0.1043\" \n",
      " [5] \"#Features:  5  ; CV error= 0.9615  ; std dev= 0.1073\" \n",
      " [6] \"#Features:  6  ; CV error= 0.9308  ; std dev= 0.1145\" \n",
      " [7] \"#Features:  7  ; CV error= 0.9186  ; std dev= 0.1247\" \n",
      " [8] \"#Features:  8  ; CV error= 0.9118  ; std dev= 0.1338\" \n",
      " [9] \"#Features:  9  ; CV error= 0.9169  ; std dev= 0.1253\" \n",
      "[10] \"#Features:  10  ; CV error= 0.9131  ; std dev= 0.1204\"\n",
      "[11] \"#Features:  11  ; CV error= 0.9122  ; std dev= 0.1209\"\n",
      "[12] \"#Features:  12  ; CV error= 0.9135  ; std dev= 0.1242\"\n",
      "[13] \"#Features:  13  ; CV error= 0.9113  ; std dev= 0.1273\"\n",
      "[14] \"#Features:  14  ; CV error= 0.9085  ; std dev= 0.1298\"\n",
      "[15] \"#Features:  15  ; CV error= 0.9138  ; std dev= 0.1508\"\n"
     ]
    }
   ],
   "source": [
    "size.CV<-floor(N/10)\n",
    "\n",
    "CV.err<-matrix(0,nrow=n,ncol=10)\n",
    "\n",
    "for (i in 1:10) {\n",
    "    i.ts<-(((i-1)*size.CV+1):(i*size.CV))  \n",
    "    X.ts<-X[i.ts,]  \n",
    "    Y.ts<-Y[i.ts]  \n",
    "     \n",
    "    i.tr<-setdiff(1:N,i.ts)\n",
    "    X.tr<-X[i.tr,]\n",
    "    Y.tr<-Y[i.tr]\n",
    "    \n",
    "    \n",
    "    correlation<-abs(cor(X.tr,Y.tr))\n",
    "    \n",
    "    selected<-c()\n",
    "    candidates<-1:n\n",
    "    \n",
    "    #mRMR ranks the variables by taking account not only the correlation with the output, but also by avoiding redudant variables\n",
    "    for (j in 1:n) {\n",
    "        redudancy.score<-numeric(length(candidates))\n",
    "        if (length(selected)>0) {\n",
    "            cor.selected.candidates<-cor(X.tr[,selected,drop=F],X.tr[,candidates,drop=F])\n",
    "            redudancy.score<-apply(cor.selected.candidates,2,mean)\n",
    "        }\n",
    "        \n",
    "        mRMR.score<-correlation[candidates]-redudancy.score\n",
    "        \n",
    "        selected_current<-candidates[which.max(mRMR.score)]\n",
    "        selected<-c(selected,selected_current)\n",
    "        candidates<-setdiff(candidates,selected_current)\n",
    "    }\n",
    "    \n",
    "    ranking<-selected\n",
    "     \n",
    "    for (nb_features in 1:n) {\n",
    "        DS<-cbind(X.tr[,ranking[1:nb_features],drop=F],imdb_score=Y.tr)\n",
    "        model<- lm(imdb_score~.,DS)\n",
    "        \n",
    "        Y.hat.ts<- predict(model,X.ts[,ranking[1:nb_features],drop=F])\n",
    "        \n",
    "        CV.err[nb_features,i]<-mean((Y.hat.ts-Y.ts)^2)\n",
    "    }\n",
    "}  \n",
    "\n",
    "print(paste(\"#Features: \",c(1:n),\" ; CV error=\",round(apply(CV.err,1,mean),digits=4), \" ; std dev=\",round(apply(CV.err,1,sd),digits=4)))\n",
    "\n"
   ]
  },
  {
   "cell_type": "code",
   "execution_count": 37,
   "metadata": {},
   "outputs": [
    {
     "data": {
      "text/html": [
       "<ol class=list-inline>\n",
       "\t<li>7</li>\n",
       "\t<li>12</li>\n",
       "\t<li>2</li>\n",
       "\t<li>9</li>\n",
       "\t<li>3</li>\n",
       "\t<li>1</li>\n",
       "\t<li>14</li>\n",
       "\t<li>10</li>\n",
       "\t<li>15</li>\n",
       "\t<li>5</li>\n",
       "\t<li>6</li>\n",
       "\t<li>13</li>\n",
       "\t<li>4</li>\n",
       "\t<li>11</li>\n",
       "\t<li>8</li>\n",
       "</ol>\n"
      ],
      "text/latex": [
       "\\begin{enumerate*}\n",
       "\\item 7\n",
       "\\item 12\n",
       "\\item 2\n",
       "\\item 9\n",
       "\\item 3\n",
       "\\item 1\n",
       "\\item 14\n",
       "\\item 10\n",
       "\\item 15\n",
       "\\item 5\n",
       "\\item 6\n",
       "\\item 13\n",
       "\\item 4\n",
       "\\item 11\n",
       "\\item 8\n",
       "\\end{enumerate*}\n"
      ],
      "text/markdown": [
       "1. 7\n",
       "2. 12\n",
       "3. 2\n",
       "4. 9\n",
       "5. 3\n",
       "6. 1\n",
       "7. 14\n",
       "8. 10\n",
       "9. 15\n",
       "10. 5\n",
       "11. 6\n",
       "12. 13\n",
       "13. 4\n",
       "14. 11\n",
       "15. 8\n",
       "\n",
       "\n"
      ],
      "text/plain": [
       " [1]  7 12  2  9  3  1 14 10 15  5  6 13  4 11  8"
      ]
     },
     "metadata": {},
     "output_type": "display_data"
    }
   ],
   "source": [
    "selected"
   ]
  },
  {
   "cell_type": "markdown",
   "metadata": {},
   "source": [
    "#### PCA\n",
    "\n",
    "* The following code performs features selection by first transforming the inputs using PCA, and then keeping the most relevant principal components in the model. Compare the results for linear models and decision trees. What are the smallest CV errors, and how many features were needed?\n",
    "\n"
   ]
  },
  {
   "cell_type": "code",
   "execution_count": 38,
   "metadata": {},
   "outputs": [
    {
     "name": "stdout",
     "output_type": "stream",
     "text": [
      " [1] \"#Features:  1  ; CV error= 1.2051  ; std dev= 0.1211\" \n",
      " [2] \"#Features:  2  ; CV error= 1.199  ; std dev= 0.1282\"  \n",
      " [3] \"#Features:  3  ; CV error= 0.9963  ; std dev= 0.081\"  \n",
      " [4] \"#Features:  4  ; CV error= 1.0043  ; std dev= 0.0777\" \n",
      " [5] \"#Features:  5  ; CV error= 1.0046  ; std dev= 0.0815\" \n",
      " [6] \"#Features:  6  ; CV error= 1.0084  ; std dev= 0.0818\" \n",
      " [7] \"#Features:  7  ; CV error= 1.0063  ; std dev= 0.0753\" \n",
      " [8] \"#Features:  8  ; CV error= 0.9993  ; std dev= 0.0871\" \n",
      " [9] \"#Features:  9  ; CV error= 1.002  ; std dev= 0.0925\"  \n",
      "[10] \"#Features:  10  ; CV error= 1.0025  ; std dev= 0.095\" \n",
      "[11] \"#Features:  11  ; CV error= 0.9773  ; std dev= 0.1005\"\n",
      "[12] \"#Features:  12  ; CV error= 0.9661  ; std dev= 0.1263\"\n",
      "[13] \"#Features:  13  ; CV error= 0.9142  ; std dev= 0.1412\"\n",
      "[14] \"#Features:  14  ; CV error= 0.9157  ; std dev= 0.1426\"\n",
      "[15] \"#Features:  15  ; CV error= 0.9138  ; std dev= 0.1508\"\n"
     ]
    }
   ],
   "source": [
    "size.CV<-floor(N/10)\n",
    "\n",
    "CV.err<-matrix(0,nrow=n,ncol=10)\n",
    "\n",
    "X_pca<-data.frame(prcomp(X,retx=T)$x)\n",
    "\n",
    "for (i in 1:10) {\n",
    "    i.ts<-(((i-1)*size.CV+1):(i*size.CV))  \n",
    "    X.ts<-X_pca[i.ts,]  \n",
    "    Y.ts<-Y[i.ts]  \n",
    "     \n",
    "    i.tr<-setdiff(1:N,i.ts)\n",
    "    X.tr<-X_pca[i.tr,]\n",
    "    Y.tr<-Y[i.tr]\n",
    "     \n",
    "    for (nb_features in 1:n) {\n",
    "        DS<-cbind(X.tr[,1:nb_features,drop=F],imdb_score=Y.tr)\n",
    "        model<- lm(imdb_score~.,DS)\n",
    "        \n",
    "        Y.hat.ts<- predict(model,X.ts[,1:nb_features,drop=F])\n",
    "        \n",
    "        CV.err[nb_features,i]<-mean((Y.hat.ts-Y.ts)^2)\n",
    "    }\n",
    "}  \n",
    "\n",
    "print(paste(\"#Features: \",c(1:n),\" ; CV error=\",round(apply(CV.err,1,mean),digits=4), \" ; std dev=\",round(apply(CV.err,1,sd),digits=4)))\n"
   ]
  },
  {
   "cell_type": "markdown",
   "metadata": {},
   "source": [
    "### Wrapper method: Forward selection\n",
    "\n",
    "* The following code performs features selection by using a forward selection method (See slide 20 in http://uv.ulb.ac.be/pluginfile.php/874401/mod_resource/content/1/fsel.pdf). Compare the results for linear models and decision trees. What are the smallest CV errors, and how many features were needed?\n"
   ]
  },
  {
   "cell_type": "code",
   "execution_count": 39,
   "metadata": {},
   "outputs": [
    {
     "name": "stdout",
     "output_type": "stream",
     "text": [
      "[1] \"Round  1  ; Selected feature:  7  ; CV error= 1.0018  ; std dev= 0.0678\"\n",
      "[1] \"Round  2  ; Selected feature:  12  ; CV error= 0.9618  ; std dev= 0.081\"\n",
      "[1] \"Round  3  ; Selected feature:  1  ; CV error= 0.9261  ; std dev= 0.0961\"\n",
      "[1] \"Round  4  ; Selected feature:  10  ; CV error= 0.912  ; std dev= 0.1088\"\n",
      "[1] \"Round  5  ; Selected feature:  11  ; CV error= 0.9062  ; std dev= 0.1085\"\n",
      "[1] \"Round  6  ; Selected feature:  2  ; CV error= 0.9016  ; std dev= 0.1243\"\n",
      "[1] \"Round  7  ; Selected feature:  14  ; CV error= 0.9004  ; std dev= 0.1337\"\n",
      "[1] \"Round  8  ; Selected feature:  4  ; CV error= 0.9  ; std dev= 0.1361\"\n",
      "[1] \"Round  9  ; Selected feature:  13  ; CV error= 0.8989  ; std dev= 0.1372\"\n",
      "[1] \"Round  10  ; Selected feature:  6  ; CV error= 0.899  ; std dev= 0.1342\"\n",
      "[1] \"Round  11  ; Selected feature:  3  ; CV error= 0.8992  ; std dev= 0.1333\"\n",
      "[1] \"Round  12  ; Selected feature:  15  ; CV error= 0.8996  ; std dev= 0.1336\"\n",
      "[1] \"Round  13  ; Selected feature:  9  ; CV error= 0.9017  ; std dev= 0.1355\"\n",
      "[1] \"Round  14  ; Selected feature:  8  ; CV error= 0.9078  ; std dev= 0.1331\"\n",
      "[1] \"Round  15  ; Selected feature:  5  ; CV error= 0.9138  ; std dev= 0.1508\"\n"
     ]
    }
   ],
   "source": [
    "size.CV<-floor(N/10)\n",
    "\n",
    "selected<-NULL\n",
    "\n",
    "for (round in 1:n) { \n",
    "    candidates<-setdiff(1:n,selected)\n",
    "    \n",
    "    CV.err<-matrix(0,nrow=length(candidates),ncol=10)\n",
    "    \n",
    "    for (j in 1:length(candidates)) {\n",
    "        features_to_include<-c(selected,candidates[j])\n",
    "        \n",
    "        for (i in 1:10) {\n",
    "            i.ts<-(((i-1)*size.CV+1):(i*size.CV))  \n",
    "            X.ts<-X[i.ts,features_to_include,drop=F]  \n",
    "            Y.ts<-Y[i.ts]  \n",
    "     \n",
    "            i.tr<-setdiff(1:N,i.ts)\n",
    "            X.tr<-X[i.tr,features_to_include,drop=F]\n",
    "            Y.tr<-Y[i.tr]\n",
    "     \n",
    "            DS<-cbind(X.tr,imdb_score=Y.tr)\n",
    "            model<- lm(imdb_score~.,DS)\n",
    "        \n",
    "            Y.hat.ts<- predict(model,X.ts)\n",
    "        \n",
    "            CV.err[j,i]<-mean((Y.hat.ts-Y.ts)^2)\n",
    "        }\n",
    "    }\n",
    "    CV.err.mean<-apply(CV.err,1,mean)\n",
    "    CV.err.sd<-apply(CV.err,1,sd)\n",
    "    selected_current<-which.min(CV.err.mean)              \n",
    "    selected<-c(selected,candidates[selected_current])\n",
    "    print(paste(\"Round \",round,\" ; Selected feature: \",candidates[selected_current],\" ; CV error=\",round(CV.err.mean[selected_current],digits=4), \" ; std dev=\",round(CV.err.sd[selected_current],digits=4)))\n",
    "\n",
    "}\n",
    "                   \n"
   ]
  },
  {
   "cell_type": "code",
   "execution_count": 40,
   "metadata": {},
   "outputs": [
    {
     "data": {
      "text/html": [
       "<ol class=list-inline>\n",
       "\t<li>'num_voted_users'</li>\n",
       "\t<li>'title_year'</li>\n",
       "\t<li>'num_critic_for_reviews'</li>\n",
       "\t<li>'num_user_for_reviews'</li>\n",
       "\t<li>'budget'</li>\n",
       "\t<li>'duration'</li>\n",
       "\t<li>'aspect_ratio'</li>\n",
       "\t<li>'actor_3_facebook_likes'</li>\n",
       "\t<li>'actor_2_facebook_likes'</li>\n",
       "\t<li>'gross'</li>\n",
       "\t<li>'director_facebook_likes'</li>\n",
       "\t<li>'movie_facebook_likes'</li>\n",
       "\t<li>'facenumber_in_poster'</li>\n",
       "\t<li>'cast_total_facebook_likes'</li>\n",
       "\t<li>'actor_1_facebook_likes'</li>\n",
       "</ol>\n"
      ],
      "text/latex": [
       "\\begin{enumerate*}\n",
       "\\item 'num\\_voted\\_users'\n",
       "\\item 'title\\_year'\n",
       "\\item 'num\\_critic\\_for\\_reviews'\n",
       "\\item 'num\\_user\\_for\\_reviews'\n",
       "\\item 'budget'\n",
       "\\item 'duration'\n",
       "\\item 'aspect\\_ratio'\n",
       "\\item 'actor\\_3\\_facebook\\_likes'\n",
       "\\item 'actor\\_2\\_facebook\\_likes'\n",
       "\\item 'gross'\n",
       "\\item 'director\\_facebook\\_likes'\n",
       "\\item 'movie\\_facebook\\_likes'\n",
       "\\item 'facenumber\\_in\\_poster'\n",
       "\\item 'cast\\_total\\_facebook\\_likes'\n",
       "\\item 'actor\\_1\\_facebook\\_likes'\n",
       "\\end{enumerate*}\n"
      ],
      "text/markdown": [
       "1. 'num_voted_users'\n",
       "2. 'title_year'\n",
       "3. 'num_critic_for_reviews'\n",
       "4. 'num_user_for_reviews'\n",
       "5. 'budget'\n",
       "6. 'duration'\n",
       "7. 'aspect_ratio'\n",
       "8. 'actor_3_facebook_likes'\n",
       "9. 'actor_2_facebook_likes'\n",
       "10. 'gross'\n",
       "11. 'director_facebook_likes'\n",
       "12. 'movie_facebook_likes'\n",
       "13. 'facenumber_in_poster'\n",
       "14. 'cast_total_facebook_likes'\n",
       "15. 'actor_1_facebook_likes'\n",
       "\n",
       "\n"
      ],
      "text/plain": [
       " [1] \"num_voted_users\"           \"title_year\"               \n",
       " [3] \"num_critic_for_reviews\"    \"num_user_for_reviews\"     \n",
       " [5] \"budget\"                    \"duration\"                 \n",
       " [7] \"aspect_ratio\"              \"actor_3_facebook_likes\"   \n",
       " [9] \"actor_2_facebook_likes\"    \"gross\"                    \n",
       "[11] \"director_facebook_likes\"   \"movie_facebook_likes\"     \n",
       "[13] \"facenumber_in_poster\"      \"cast_total_facebook_likes\"\n",
       "[15] \"actor_1_facebook_likes\"   "
      ]
     },
     "metadata": {},
     "output_type": "display_data"
    }
   ],
   "source": [
    "colnames(X)[selected]"
   ]
  },
  {
   "cell_type": "markdown",
   "metadata": {},
   "source": [
    "## Further preprocessing to add categorical variables\n",
    "\n",
    "Categorical variables usually need to be transformed with 'one-hot-encoding' in order to be processed by a learning algorithm. That is, for each value of the categorical variable, a binary feature is created, which is set to one whenever that value is present. This can be done using the `dummy.data.frame` of the `dummies` package.\n",
    "\n",
    "```\n",
    "install.packages('dummies')\n",
    "library(dummies)\n",
    "```\n",
    "\n",
    "In the following, we add some categorical variables to the peprocessing dataset. The set of categorical variables is"
   ]
  },
  {
   "cell_type": "code",
   "execution_count": 46,
   "metadata": {},
   "outputs": [
    {
     "name": "stdout",
     "output_type": "stream",
     "text": [
      "package 'dummies' successfully unpacked and MD5 sums checked\n",
      "\n",
      "The downloaded binary packages are in\n",
      "\tC:\\Users\\adminl\\AppData\\Local\\Temp\\RtmpgN8aVO\\downloaded_packages\n"
     ]
    },
    {
     "name": "stderr",
     "output_type": "stream",
     "text": [
      "dummies-1.5.6 provided by Decision Patterns\n",
      "\n"
     ]
    }
   ],
   "source": [
    "install.packages('dummies')\n",
    "library(dummies)"
   ]
  },
  {
   "cell_type": "code",
   "execution_count": 47,
   "metadata": {},
   "outputs": [
    {
     "data": {
      "text/html": [
       "<dl class=dl-horizontal>\n",
       "\t<dt>color</dt>\n",
       "\t\t<dd>1</dd>\n",
       "\t<dt>director_name</dt>\n",
       "\t\t<dd>2</dd>\n",
       "\t<dt>actor_2_name</dt>\n",
       "\t\t<dd>7</dd>\n",
       "\t<dt>genres</dt>\n",
       "\t\t<dd>10</dd>\n",
       "\t<dt>actor_1_name</dt>\n",
       "\t\t<dd>11</dd>\n",
       "\t<dt>movie_title</dt>\n",
       "\t\t<dd>12</dd>\n",
       "\t<dt>actor_3_name</dt>\n",
       "\t\t<dd>15</dd>\n",
       "\t<dt>plot_keywords</dt>\n",
       "\t\t<dd>17</dd>\n",
       "\t<dt>movie_imdb_link</dt>\n",
       "\t\t<dd>18</dd>\n",
       "\t<dt>language</dt>\n",
       "\t\t<dd>20</dd>\n",
       "\t<dt>country</dt>\n",
       "\t\t<dd>21</dd>\n",
       "\t<dt>content_rating</dt>\n",
       "\t\t<dd>22</dd>\n",
       "</dl>\n"
      ],
      "text/latex": [
       "\\begin{description*}\n",
       "\\item[color] 1\n",
       "\\item[director\\textbackslash{}\\_name] 2\n",
       "\\item[actor\\textbackslash{}\\_2\\textbackslash{}\\_name] 7\n",
       "\\item[genres] 10\n",
       "\\item[actor\\textbackslash{}\\_1\\textbackslash{}\\_name] 11\n",
       "\\item[movie\\textbackslash{}\\_title] 12\n",
       "\\item[actor\\textbackslash{}\\_3\\textbackslash{}\\_name] 15\n",
       "\\item[plot\\textbackslash{}\\_keywords] 17\n",
       "\\item[movie\\textbackslash{}\\_imdb\\textbackslash{}\\_link] 18\n",
       "\\item[language] 20\n",
       "\\item[country] 21\n",
       "\\item[content\\textbackslash{}\\_rating] 22\n",
       "\\end{description*}\n"
      ],
      "text/markdown": [
       "color\n",
       ":   1director_name\n",
       ":   2actor_2_name\n",
       ":   7genres\n",
       ":   10actor_1_name\n",
       ":   11movie_title\n",
       ":   12actor_3_name\n",
       ":   15plot_keywords\n",
       ":   17movie_imdb_link\n",
       ":   18language\n",
       ":   20country\n",
       ":   21content_rating\n",
       ":   22\n",
       "\n"
      ],
      "text/plain": [
       "          color   director_name    actor_2_name          genres    actor_1_name \n",
       "              1               2               7              10              11 \n",
       "    movie_title    actor_3_name   plot_keywords movie_imdb_link        language \n",
       "             12              15              17              18              20 \n",
       "        country  content_rating \n",
       "             21              22 "
      ]
     },
     "metadata": {},
     "output_type": "display_data"
    }
   ],
   "source": [
    "factor_variables"
   ]
  },
  {
   "cell_type": "markdown",
   "metadata": {},
   "source": [
    "Let us have an overview of the their content"
   ]
  },
  {
   "cell_type": "code",
   "execution_count": 48,
   "metadata": {},
   "outputs": [],
   "source": [
    "data_factor<-data[,factor_variables]"
   ]
  },
  {
   "cell_type": "code",
   "execution_count": 49,
   "metadata": {},
   "outputs": [
    {
     "data": {
      "text/html": [
       "<ol class=list-inline>\n",
       "\t<li>1000</li>\n",
       "\t<li>12</li>\n",
       "</ol>\n"
      ],
      "text/latex": [
       "\\begin{enumerate*}\n",
       "\\item 1000\n",
       "\\item 12\n",
       "\\end{enumerate*}\n"
      ],
      "text/markdown": [
       "1. 1000\n",
       "2. 12\n",
       "\n",
       "\n"
      ],
      "text/plain": [
       "[1] 1000   12"
      ]
     },
     "metadata": {},
     "output_type": "display_data"
    }
   ],
   "source": [
    "dim(data_factor)"
   ]
  },
  {
   "cell_type": "code",
   "execution_count": 50,
   "metadata": {},
   "outputs": [
    {
     "data": {
      "text/html": [
       "<table>\n",
       "<thead><tr><th></th><th scope=col>color</th><th scope=col>director_name</th><th scope=col>actor_2_name</th><th scope=col>genres</th><th scope=col>actor_1_name</th><th scope=col>movie_title</th><th scope=col>actor_3_name</th><th scope=col>plot_keywords</th><th scope=col>movie_imdb_link</th><th scope=col>language</th><th scope=col>country</th><th scope=col>content_rating</th></tr></thead>\n",
       "<tbody>\n",
       "\t<tr><th scope=row>933</th><td>Color                                               </td><td>James L. Brooks                                     </td><td>Yeardley Smith                                      </td><td>Comedy|Drama|Romance                                </td><td>Lupe Ontiveros                                      </td><td>As Good as It GetsÂ                                 </td><td>Shirley Knight                                      </td><td>dog|friendship|neighbor|unlikely friendship|writer  </td><td>http://www.imdb.com/title/tt0119822/?ref_=fn_tt_tt_1</td><td>English                                             </td><td>USA                                                 </td><td>PG-13                                               </td></tr>\n",
       "\t<tr><th scope=row>3542</th><td>Color                                               </td><td>Robert C. Cooper                                    </td><td>Christopher Judge                                   </td><td>Action|Adventure|Drama|Fantasy|Sci-Fi               </td><td>Ben Browder                                         </td><td>Stargate: The Ark of TruthÂ                         </td><td>Julian Sands                                        </td><td>2000s|evil god|space opera|stargate|wormhole        </td><td>http://www.imdb.com/title/tt0942903/?ref_=fn_tt_tt_1</td><td>English                                             </td><td>USA                                                 </td><td>                                                    </td></tr>\n",
       "</tbody>\n",
       "</table>\n"
      ],
      "text/latex": [
       "\\begin{tabular}{r|llllllllllll}\n",
       "  & color & director\\_name & actor\\_2\\_name & genres & actor\\_1\\_name & movie\\_title & actor\\_3\\_name & plot\\_keywords & movie\\_imdb\\_link & language & country & content\\_rating\\\\\n",
       "\\hline\n",
       "\t933 & Color                                                                                      & James L. Brooks                                                                            & Yeardley Smith                                                                             & Comedy\\textbar{}Drama\\textbar{}Romance                                                   & Lupe Ontiveros                                                                             & As Good as It GetsÂ                                                                        & Shirley Knight                                                                             & dog\\textbar{}friendship\\textbar{}neighbor\\textbar{}unlikely friendship\\textbar{}writer & http://www.imdb.com/title/tt0119822/?ref\\_=fn\\_tt\\_tt\\_1                               & English                                                                                    & USA                                                                                        & PG-13                                                                                     \\\\\n",
       "\t3542 & Color                                                                                      & Robert C. Cooper                                                                           & Christopher Judge                                                                          & Action\\textbar{}Adventure\\textbar{}Drama\\textbar{}Fantasy\\textbar{}Sci-Fi              & Ben Browder                                                                                & Stargate: The Ark of TruthÂ                                                                & Julian Sands                                                                               & 2000s\\textbar{}evil god\\textbar{}space opera\\textbar{}stargate\\textbar{}wormhole       & http://www.imdb.com/title/tt0942903/?ref\\_=fn\\_tt\\_tt\\_1                               & English                                                                                    & USA                                                                                        &                                                                                           \\\\\n",
       "\\end{tabular}\n"
      ],
      "text/markdown": [
       "\n",
       "| <!--/--> | color | director_name | actor_2_name | genres | actor_1_name | movie_title | actor_3_name | plot_keywords | movie_imdb_link | language | country | content_rating | \n",
       "|---|---|\n",
       "| 933 | Color                                                | James L. Brooks                                      | Yeardley Smith                                       | Comedy|Drama|Romance                                 | Lupe Ontiveros                                       | As Good as It GetsÂ                                  | Shirley Knight                                       | dog|friendship|neighbor|unlikely friendship|writer   | http://www.imdb.com/title/tt0119822/?ref_=fn_tt_tt_1 | English                                              | USA                                                  | PG-13                                                | \n",
       "| 3542 | Color                                                | Robert C. Cooper                                     | Christopher Judge                                    | Action|Adventure|Drama|Fantasy|Sci-Fi                | Ben Browder                                          | Stargate: The Ark of TruthÂ                          | Julian Sands                                         | 2000s|evil god|space opera|stargate|wormhole         | http://www.imdb.com/title/tt0942903/?ref_=fn_tt_tt_1 | English                                              | USA                                                  |                                                      | \n",
       "\n",
       "\n"
      ],
      "text/plain": [
       "     color director_name    actor_2_name     \n",
       "933  Color James L. Brooks  Yeardley Smith   \n",
       "3542 Color Robert C. Cooper Christopher Judge\n",
       "     genres                                actor_1_name  \n",
       "933  Comedy|Drama|Romance                  Lupe Ontiveros\n",
       "3542 Action|Adventure|Drama|Fantasy|Sci-Fi Ben Browder   \n",
       "     movie_title                  actor_3_name  \n",
       "933  As Good as It GetsÂ          Shirley Knight\n",
       "3542 Stargate: The Ark of TruthÂ  Julian Sands  \n",
       "     plot_keywords                                     \n",
       "933  dog|friendship|neighbor|unlikely friendship|writer\n",
       "3542 2000s|evil god|space opera|stargate|wormhole      \n",
       "     movie_imdb_link                                      language country\n",
       "933  http://www.imdb.com/title/tt0119822/?ref_=fn_tt_tt_1 English  USA    \n",
       "3542 http://www.imdb.com/title/tt0942903/?ref_=fn_tt_tt_1 English  USA    \n",
       "     content_rating\n",
       "933  PG-13         \n",
       "3542               "
      ]
     },
     "metadata": {},
     "output_type": "display_data"
    }
   ],
   "source": [
    "data_factor[1:2,]"
   ]
  },
  {
   "cell_type": "markdown",
   "metadata": {},
   "source": [
    "Let us keep four of them: Color, language, country and content_rating, and transform them with one-hot-encoding"
   ]
  },
  {
   "cell_type": "code",
   "execution_count": 51,
   "metadata": {},
   "outputs": [],
   "source": [
    "variable_to_keep<-c(\"color\",\"language\",\"country\",\"content_rating\")"
   ]
  },
  {
   "cell_type": "code",
   "execution_count": 52,
   "metadata": {},
   "outputs": [],
   "source": [
    "data_factor_onehot <- dummy.data.frame(data_factor[,variable_to_keep], sep=\"_\")"
   ]
  },
  {
   "cell_type": "code",
   "execution_count": 53,
   "metadata": {},
   "outputs": [
    {
     "data": {
      "text/html": [
       "<ol class=list-inline>\n",
       "\t<li>1000</li>\n",
       "\t<li>76</li>\n",
       "</ol>\n"
      ],
      "text/latex": [
       "\\begin{enumerate*}\n",
       "\\item 1000\n",
       "\\item 76\n",
       "\\end{enumerate*}\n"
      ],
      "text/markdown": [
       "1. 1000\n",
       "2. 76\n",
       "\n",
       "\n"
      ],
      "text/plain": [
       "[1] 1000   76"
      ]
     },
     "metadata": {},
     "output_type": "display_data"
    }
   ],
   "source": [
    "dim(data_factor_onehot)"
   ]
  },
  {
   "cell_type": "code",
   "execution_count": 54,
   "metadata": {},
   "outputs": [
    {
     "data": {
      "text/html": [
       "<table>\n",
       "<thead><tr><th></th><th scope=col>color_</th><th scope=col>color_ Black and White</th><th scope=col>color_Color</th><th scope=col>language_</th><th scope=col>language_Aboriginal</th><th scope=col>language_Arabic</th><th scope=col>language_Bosnian</th><th scope=col>language_Cantonese</th><th scope=col>language_Dutch</th><th scope=col>language_English</th><th scope=col>...</th><th scope=col>content_rating_Passed</th><th scope=col>content_rating_PG</th><th scope=col>content_rating_PG-13</th><th scope=col>content_rating_R</th><th scope=col>content_rating_TV-14</th><th scope=col>content_rating_TV-G</th><th scope=col>content_rating_TV-MA</th><th scope=col>content_rating_TV-PG</th><th scope=col>content_rating_Unrated</th><th scope=col>content_rating_X</th></tr></thead>\n",
       "<tbody>\n",
       "\t<tr><th scope=row>933</th><td>0  </td><td>0  </td><td>1  </td><td>0  </td><td>0  </td><td>0  </td><td>0  </td><td>0  </td><td>0  </td><td>1  </td><td>...</td><td>0  </td><td>0  </td><td>1  </td><td>0  </td><td>0  </td><td>0  </td><td>0  </td><td>0  </td><td>0  </td><td>0  </td></tr>\n",
       "\t<tr><th scope=row>3542</th><td>0  </td><td>0  </td><td>1  </td><td>0  </td><td>0  </td><td>0  </td><td>0  </td><td>0  </td><td>0  </td><td>1  </td><td>...</td><td>0  </td><td>0  </td><td>0  </td><td>0  </td><td>0  </td><td>0  </td><td>0  </td><td>0  </td><td>0  </td><td>0  </td></tr>\n",
       "</tbody>\n",
       "</table>\n"
      ],
      "text/latex": [
       "\\begin{tabular}{r|llllllllllllllllllllllllllllllllllllllllllllllllllllllllllllllllllllllllllll}\n",
       "  & color\\_ & color\\_ Black and White & color\\_Color & language\\_ & language\\_Aboriginal & language\\_Arabic & language\\_Bosnian & language\\_Cantonese & language\\_Dutch & language\\_English & ... & content\\_rating\\_Passed & content\\_rating\\_PG & content\\_rating\\_PG-13 & content\\_rating\\_R & content\\_rating\\_TV-14 & content\\_rating\\_TV-G & content\\_rating\\_TV-MA & content\\_rating\\_TV-PG & content\\_rating\\_Unrated & content\\_rating\\_X\\\\\n",
       "\\hline\n",
       "\t933 & 0   & 0   & 1   & 0   & 0   & 0   & 0   & 0   & 0   & 1   & ... & 0   & 0   & 1   & 0   & 0   & 0   & 0   & 0   & 0   & 0  \\\\\n",
       "\t3542 & 0   & 0   & 1   & 0   & 0   & 0   & 0   & 0   & 0   & 1   & ... & 0   & 0   & 0   & 0   & 0   & 0   & 0   & 0   & 0   & 0  \\\\\n",
       "\\end{tabular}\n"
      ],
      "text/markdown": [
       "\n",
       "| <!--/--> | color_ | color_ Black and White | color_Color | language_ | language_Aboriginal | language_Arabic | language_Bosnian | language_Cantonese | language_Dutch | language_English | ... | content_rating_Passed | content_rating_PG | content_rating_PG-13 | content_rating_R | content_rating_TV-14 | content_rating_TV-G | content_rating_TV-MA | content_rating_TV-PG | content_rating_Unrated | content_rating_X | \n",
       "|---|---|\n",
       "| 933 | 0   | 0   | 1   | 0   | 0   | 0   | 0   | 0   | 0   | 1   | ... | 0   | 0   | 1   | 0   | 0   | 0   | 0   | 0   | 0   | 0   | \n",
       "| 3542 | 0   | 0   | 1   | 0   | 0   | 0   | 0   | 0   | 0   | 1   | ... | 0   | 0   | 0   | 0   | 0   | 0   | 0   | 0   | 0   | 0   | \n",
       "\n",
       "\n"
      ],
      "text/plain": [
       "     color_ color_ Black and White color_Color language_ language_Aboriginal\n",
       "933  0      0                      1           0         0                  \n",
       "3542 0      0                      1           0         0                  \n",
       "     language_Arabic language_Bosnian language_Cantonese language_Dutch\n",
       "933  0               0                0                  0             \n",
       "3542 0               0                0                  0             \n",
       "     language_English ... content_rating_Passed content_rating_PG\n",
       "933  1                ... 0                     0                \n",
       "3542 1                ... 0                     0                \n",
       "     content_rating_PG-13 content_rating_R content_rating_TV-14\n",
       "933  1                    0                0                   \n",
       "3542 0                    0                0                   \n",
       "     content_rating_TV-G content_rating_TV-MA content_rating_TV-PG\n",
       "933  0                   0                    0                   \n",
       "3542 0                   0                    0                   \n",
       "     content_rating_Unrated content_rating_X\n",
       "933  0                      0               \n",
       "3542 0                      0               "
      ]
     },
     "metadata": {},
     "output_type": "display_data"
    }
   ],
   "source": [
    "data_factor_onehot[1:2,]"
   ]
  },
  {
   "cell_type": "markdown",
   "metadata": {},
   "source": [
    "These could be added to the previously preprocessed dataset, and used to further improve the prediction accuracy using the feature selection/ensemble techniques seen above. "
   ]
  },
  {
   "cell_type": "code",
   "execution_count": 55,
   "metadata": {},
   "outputs": [],
   "source": [
    "data_preprocessed_extended<-cbind(data_preprocessed,data_factor_onehot)"
   ]
  },
  {
   "cell_type": "code",
   "execution_count": 56,
   "metadata": {},
   "outputs": [
    {
     "data": {
      "text/html": [
       "<ol class=list-inline>\n",
       "\t<li>1000</li>\n",
       "\t<li>92</li>\n",
       "</ol>\n"
      ],
      "text/latex": [
       "\\begin{enumerate*}\n",
       "\\item 1000\n",
       "\\item 92\n",
       "\\end{enumerate*}\n"
      ],
      "text/markdown": [
       "1. 1000\n",
       "2. 92\n",
       "\n",
       "\n"
      ],
      "text/plain": [
       "[1] 1000   92"
      ]
     },
     "metadata": {},
     "output_type": "display_data"
    }
   ],
   "source": [
    "dim(data_preprocessed_extended)"
   ]
  },
  {
   "cell_type": "code",
   "execution_count": 57,
   "metadata": {},
   "outputs": [
    {
     "data": {
      "text/plain": [
       " num_critic_for_reviews    duration     director_facebook_likes\n",
       " Min.   :  1.0          Min.   : 11.0   Min.   :    0.0        \n",
       " 1st Qu.: 50.0          1st Qu.: 93.0   1st Qu.:    7.0        \n",
       " Median :110.0          Median :104.0   Median :   47.5        \n",
       " Mean   :143.5          Mean   :107.7   Mean   :  735.7        \n",
       " 3rd Qu.:199.0          3rd Qu.:118.0   3rd Qu.:  210.5        \n",
       " Max.   :813.0          Max.   :511.0   Max.   :22000.0        \n",
       " actor_3_facebook_likes actor_1_facebook_likes     gross          \n",
       " Min.   :    0.0        Min.   :     0.0       Min.   :     1332  \n",
       " 1st Qu.:  123.8        1st Qu.:   591.8       1st Qu.:  9709388  \n",
       " Median :  366.0        Median :   984.5       Median : 39670256  \n",
       " Mean   :  618.1        Mean   :  6594.5       Mean   : 52916026  \n",
       " 3rd Qu.:  635.5        3rd Qu.: 11000.0       3rd Qu.: 54422773  \n",
       " Max.   :23000.0        Max.   :260000.0       Max.   :533316061  \n",
       " num_voted_users   cast_total_facebook_likes facenumber_in_poster\n",
       " Min.   :     13   Min.   :     0            Min.   : 0.000      \n",
       " 1st Qu.:   8143   1st Qu.:  1344            1st Qu.: 0.000      \n",
       " Median :  31808   Median :  2982            Median : 1.000      \n",
       " Mean   :  93131   Mean   :  9696            Mean   : 1.422      \n",
       " 3rd Qu.: 102979   3rd Qu.: 13766            3rd Qu.: 2.000      \n",
       " Max.   :1689764   Max.   :283939            Max.   :43.000      \n",
       " num_user_for_reviews     budget            title_year   actor_2_facebook_likes\n",
       " Min.   :   1.0       Min.   :    10000   Min.   :1929   Min.   :    0.0       \n",
       " 1st Qu.:  64.0       1st Qu.:  7000000   1st Qu.:1999   1st Qu.:  289.5       \n",
       " Median : 150.0       Median : 23000000   Median :2005   Median :  611.5       \n",
       " Mean   : 285.8       Mean   : 34077007   Mean   :2003   Mean   : 1664.6       \n",
       " 3rd Qu.: 340.0       3rd Qu.: 40000000   3rd Qu.:2011   3rd Qu.:  909.0       \n",
       " Max.   :4667.0       Max.   :258000000   Max.   :2016   Max.   :25000.0       \n",
       "   imdb_score     aspect_ratio    movie_facebook_likes     color_     \n",
       " Min.   :1.600   Min.   : 1.180   Min.   :     0       Min.   :0.000  \n",
       " 1st Qu.:5.800   1st Qu.: 1.850   1st Qu.:     0       1st Qu.:0.000  \n",
       " Median :6.600   Median : 2.205   Median :   182       Median :0.000  \n",
       " Mean   :6.454   Mean   : 2.205   Mean   :  8375       Mean   :0.005  \n",
       " 3rd Qu.:7.200   3rd Qu.: 2.350   3rd Qu.:  2000       3rd Qu.:0.000  \n",
       " Max.   :9.300   Max.   :16.000   Max.   :199000       Max.   :1.000  \n",
       " color_ Black and White  color_Color      language_     language_Aboriginal\n",
       " Min.   :0.000          Min.   :0.000   Min.   :0.000   Min.   :0.000      \n",
       " 1st Qu.:0.000          1st Qu.:1.000   1st Qu.:0.000   1st Qu.:0.000      \n",
       " Median :0.000          Median :1.000   Median :0.000   Median :0.000      \n",
       " Mean   :0.046          Mean   :0.949   Mean   :0.001   Mean   :0.001      \n",
       " 3rd Qu.:0.000          3rd Qu.:1.000   3rd Qu.:0.000   3rd Qu.:0.000      \n",
       " Max.   :1.000          Max.   :1.000   Max.   :1.000   Max.   :1.000      \n",
       " language_Arabic language_Bosnian language_Cantonese language_Dutch \n",
       " Min.   :0.000   Min.   :0.000    Min.   :0.000      Min.   :0.000  \n",
       " 1st Qu.:0.000   1st Qu.:0.000    1st Qu.:0.000      1st Qu.:0.000  \n",
       " Median :0.000   Median :0.000    Median :0.000      Median :0.000  \n",
       " Mean   :0.001   Mean   :0.001    Mean   :0.005      Mean   :0.001  \n",
       " 3rd Qu.:0.000   3rd Qu.:0.000    3rd Qu.:0.000      3rd Qu.:0.000  \n",
       " Max.   :1.000   Max.   :1.000    Max.   :1.000      Max.   :1.000  \n",
       " language_English language_French language_German language_Hebrew\n",
       " Min.   :0.000    Min.   :0.000   Min.   :0.000   Min.   :0.000  \n",
       " 1st Qu.:1.000    1st Qu.:0.000   1st Qu.:0.000   1st Qu.:0.000  \n",
       " Median :1.000    Median :0.000   Median :0.000   Median :0.000  \n",
       " Mean   :0.945    Mean   :0.011   Mean   :0.003   Mean   :0.001  \n",
       " 3rd Qu.:1.000    3rd Qu.:0.000   3rd Qu.:0.000   3rd Qu.:0.000  \n",
       " Max.   :1.000    Max.   :1.000   Max.   :1.000   Max.   :1.000  \n",
       " language_Hindi  language_Icelandic language_Italian language_Japanese\n",
       " Min.   :0.000   Min.   :0.000      Min.   :0.000    Min.   :0.000    \n",
       " 1st Qu.:0.000   1st Qu.:0.000      1st Qu.:0.000    1st Qu.:0.000    \n",
       " Median :0.000   Median :0.000      Median :0.000    Median :0.000    \n",
       " Mean   :0.005   Mean   :0.001      Mean   :0.003    Mean   :0.004    \n",
       " 3rd Qu.:0.000   3rd Qu.:0.000      3rd Qu.:0.000    3rd Qu.:0.000    \n",
       " Max.   :1.000   Max.   :1.000      Max.   :1.000    Max.   :1.000    \n",
       " language_Mandarin language_Mongolian language_Persian language_Polish\n",
       " Min.   :0.000     Min.   :0.000      Min.   :0.000    Min.   :0.000  \n",
       " 1st Qu.:0.000     1st Qu.:0.000      1st Qu.:0.000    1st Qu.:0.000  \n",
       " Median :0.000     Median :0.000      Median :0.000    Median :0.000  \n",
       " Mean   :0.004     Mean   :0.001      Mean   :0.001    Mean   :0.001  \n",
       " 3rd Qu.:0.000     3rd Qu.:0.000      3rd Qu.:0.000    3rd Qu.:0.000  \n",
       " Max.   :1.000     Max.   :1.000      Max.   :1.000    Max.   :1.000  \n",
       " language_Portuguese language_Spanish language_Swahili language_Swedish\n",
       " Min.   :0.000       Min.   :0.000    Min.   :0.000    Min.   :0.000   \n",
       " 1st Qu.:0.000       1st Qu.:0.000    1st Qu.:0.000    1st Qu.:0.000   \n",
       " Median :0.000       Median :0.000    Median :0.000    Median :0.000   \n",
       " Mean   :0.001       Mean   :0.005    Mean   :0.001    Mean   :0.003   \n",
       " 3rd Qu.:0.000       3rd Qu.:0.000    3rd Qu.:0.000    3rd Qu.:0.000   \n",
       " Max.   :1.000       Max.   :1.000    Max.   :1.000    Max.   :1.000   \n",
       "    country_     country_Australia country_Bahamas country_Belgium\n",
       " Min.   :0.000   Min.   :0.000     Min.   :0.000   Min.   :0.000  \n",
       " 1st Qu.:0.000   1st Qu.:0.000     1st Qu.:0.000   1st Qu.:0.000  \n",
       " Median :0.000   Median :0.000     Median :0.000   Median :0.000  \n",
       " Mean   :0.001   Mean   :0.011     Mean   :0.001   Mean   :0.001  \n",
       " 3rd Qu.:0.000   3rd Qu.:0.000     3rd Qu.:0.000   3rd Qu.:0.000  \n",
       " Max.   :1.000   Max.   :1.000     Max.   :1.000   Max.   :1.000  \n",
       " country_Brazil  country_Cameroon country_Canada  country_China  \n",
       " Min.   :0.000   Min.   :0.000    Min.   :0.000   Min.   :0.000  \n",
       " 1st Qu.:0.000   1st Qu.:0.000    1st Qu.:0.000   1st Qu.:0.000  \n",
       " Median :0.000   Median :0.000    Median :0.000   Median :0.000  \n",
       " Mean   :0.001   Mean   :0.001    Mean   :0.023   Mean   :0.008  \n",
       " 3rd Qu.:0.000   3rd Qu.:0.000    3rd Qu.:0.000   3rd Qu.:0.000  \n",
       " Max.   :1.000   Max.   :1.000    Max.   :1.000   Max.   :1.000  \n",
       " country_France  country_Georgia country_Germany country_Greece \n",
       " Min.   :0.000   Min.   :0.000   Min.   :0.000   Min.   :0.000  \n",
       " 1st Qu.:0.000   1st Qu.:0.000   1st Qu.:0.000   1st Qu.:0.000  \n",
       " Median :0.000   Median :0.000   Median :0.000   Median :0.000  \n",
       " Mean   :0.023   Mean   :0.001   Mean   :0.017   Mean   :0.001  \n",
       " 3rd Qu.:0.000   3rd Qu.:0.000   3rd Qu.:0.000   3rd Qu.:0.000  \n",
       " Max.   :1.000   Max.   :1.000   Max.   :1.000   Max.   :1.000  \n",
       " country_Hong Kong country_Iceland country_India    country_Iran  \n",
       " Min.   :0.000     Min.   :0.000   Min.   :0.000   Min.   :0.000  \n",
       " 1st Qu.:0.000     1st Qu.:0.000   1st Qu.:0.000   1st Qu.:0.000  \n",
       " Median :0.000     Median :0.000   Median :0.000   Median :0.000  \n",
       " Mean   :0.004     Mean   :0.002   Mean   :0.008   Mean   :0.001  \n",
       " 3rd Qu.:0.000     3rd Qu.:0.000   3rd Qu.:0.000   3rd Qu.:0.000  \n",
       " Max.   :1.000     Max.   :1.000   Max.   :1.000   Max.   :1.000  \n",
       " country_Ireland country_Israel  country_Italy   country_Japan  \n",
       " Min.   :0.000   Min.   :0.000   Min.   :0.000   Min.   :0.000  \n",
       " 1st Qu.:0.000   1st Qu.:0.000   1st Qu.:0.000   1st Qu.:0.000  \n",
       " Median :0.000   Median :0.000   Median :0.000   Median :0.000  \n",
       " Mean   :0.001   Mean   :0.001   Mean   :0.002   Mean   :0.007  \n",
       " 3rd Qu.:0.000   3rd Qu.:0.000   3rd Qu.:0.000   3rd Qu.:0.000  \n",
       " Max.   :1.000   Max.   :1.000   Max.   :1.000   Max.   :1.000  \n",
       " country_Kenya   country_Mexico  country_Netherlands country_New Zealand\n",
       " Min.   :0.000   Min.   :0.000   Min.   :0.000       Min.   :0.000      \n",
       " 1st Qu.:0.000   1st Qu.:0.000   1st Qu.:0.000       1st Qu.:0.000      \n",
       " Median :0.000   Median :0.000   Median :0.000       Median :0.000      \n",
       " Mean   :0.001   Mean   :0.003   Mean   :0.001       Mean   :0.003      \n",
       " 3rd Qu.:0.000   3rd Qu.:0.000   3rd Qu.:0.000       3rd Qu.:0.000      \n",
       " Max.   :1.000   Max.   :1.000   Max.   :1.000       Max.   :1.000      \n",
       " country_Nigeria country_Norway   country_Peru   country_Poland \n",
       " Min.   :0.000   Min.   :0.000   Min.   :0.000   Min.   :0.000  \n",
       " 1st Qu.:0.000   1st Qu.:0.000   1st Qu.:0.000   1st Qu.:0.000  \n",
       " Median :0.000   Median :0.000   Median :0.000   Median :0.000  \n",
       " Mean   :0.001   Mean   :0.001   Mean   :0.001   Mean   :0.001  \n",
       " 3rd Qu.:0.000   3rd Qu.:0.000   3rd Qu.:0.000   3rd Qu.:0.000  \n",
       " Max.   :1.000   Max.   :1.000   Max.   :1.000   Max.   :1.000  \n",
       " country_Russia  country_South Korea country_Spain   country_Sweden \n",
       " Min.   :0.000   Min.   :0.000       Min.   :0.000   Min.   :0.000  \n",
       " 1st Qu.:0.000   1st Qu.:0.000       1st Qu.:0.000   1st Qu.:0.000  \n",
       " Median :0.000   Median :0.000       Median :0.000   Median :0.000  \n",
       " Mean   :0.001   Mean   :0.001       Mean   :0.003   Mean   :0.003  \n",
       " 3rd Qu.:0.000   3rd Qu.:0.000       3rd Qu.:0.000   3rd Qu.:0.000  \n",
       " Max.   :1.000   Max.   :1.000       Max.   :1.000   Max.   :1.000  \n",
       "   country_UK    country_United Arab Emirates  country_USA    content_rating_\n",
       " Min.   :0.000   Min.   :0.000                Min.   :0.000   Min.   :0.000  \n",
       " 1st Qu.:0.000   1st Qu.:0.000                1st Qu.:1.000   1st Qu.:0.000  \n",
       " Median :0.000   Median :0.000                Median :1.000   Median :0.000  \n",
       " Mean   :0.102   Mean   :0.001                Mean   :0.762   Mean   :0.059  \n",
       " 3rd Qu.:0.000   3rd Qu.:0.000                3rd Qu.:1.000   3rd Qu.:0.000  \n",
       " Max.   :1.000   Max.   :1.000                Max.   :1.000   Max.   :1.000  \n",
       " content_rating_Approved content_rating_G content_rating_M content_rating_NC-17\n",
       " Min.   :0.000           Min.   :0.000    Min.   :0.000    Min.   :0.000       \n",
       " 1st Qu.:0.000           1st Qu.:0.000    1st Qu.:0.000    1st Qu.:0.000       \n",
       " Median :0.000           Median :0.000    Median :0.000    Median :0.000       \n",
       " Mean   :0.014           Mean   :0.036    Mean   :0.002    Mean   :0.002       \n",
       " 3rd Qu.:0.000           3rd Qu.:0.000    3rd Qu.:0.000    3rd Qu.:0.000       \n",
       " Max.   :1.000           Max.   :1.000    Max.   :1.000    Max.   :1.000       \n",
       " content_rating_Not Rated content_rating_Passed content_rating_PG\n",
       " Min.   :0.000            Min.   :0.000         Min.   :0.00     \n",
       " 1st Qu.:0.000            1st Qu.:0.000         1st Qu.:0.00     \n",
       " Median :0.000            Median :0.000         Median :0.00     \n",
       " Mean   :0.022            Mean   :0.001         Mean   :0.13     \n",
       " 3rd Qu.:0.000            3rd Qu.:0.000         3rd Qu.:0.00     \n",
       " Max.   :1.000            Max.   :1.000         Max.   :1.00     \n",
       " content_rating_PG-13 content_rating_R content_rating_TV-14 content_rating_TV-G\n",
       " Min.   :0.000        Min.   :0.000    Min.   :0.000        Min.   :0.000      \n",
       " 1st Qu.:0.000        1st Qu.:0.000    1st Qu.:0.000        1st Qu.:0.000      \n",
       " Median :0.000        Median :0.000    Median :0.000        Median :0.000      \n",
       " Mean   :0.286        Mean   :0.421    Mean   :0.003        Mean   :0.001      \n",
       " 3rd Qu.:1.000        3rd Qu.:1.000    3rd Qu.:0.000        3rd Qu.:0.000      \n",
       " Max.   :1.000        Max.   :1.000    Max.   :1.000        Max.   :1.000      \n",
       " content_rating_TV-MA content_rating_TV-PG content_rating_Unrated\n",
       " Min.   :0.000        Min.   :0.000        Min.   :0.000         \n",
       " 1st Qu.:0.000        1st Qu.:0.000        1st Qu.:0.000         \n",
       " Median :0.000        Median :0.000        Median :0.000         \n",
       " Mean   :0.007        Mean   :0.002        Mean   :0.009         \n",
       " 3rd Qu.:0.000        3rd Qu.:0.000        3rd Qu.:0.000         \n",
       " Max.   :1.000        Max.   :1.000        Max.   :1.000         \n",
       " content_rating_X\n",
       " Min.   :0.000   \n",
       " 1st Qu.:0.000   \n",
       " Median :0.000   \n",
       " Mean   :0.005   \n",
       " 3rd Qu.:0.000   \n",
       " Max.   :1.000   "
      ]
     },
     "metadata": {},
     "output_type": "display_data"
    }
   ],
   "source": [
    "summary(data_preprocessed_extended)"
   ]
  },
  {
   "cell_type": "markdown",
   "metadata": {},
   "source": [
    "## Using other predictive models\n",
    "\n",
    "Other models could be used, for example support vector machines, neural networks, K-nearest neighbors (using the `svm`, `nnt`or `lazy` functions from the `e1071`, `nnet` or `lazy` packages, respectively). Note that scaling the data is usually necessary when using neural networks and K-nearest neighbors approaches. "
   ]
  }
 ],
 "metadata": {
  "anaconda-cloud": {},
  "kernelspec": {
   "display_name": "R",
   "language": "R",
   "name": "ir"
  },
  "language_info": {
   "codemirror_mode": "r",
   "file_extension": ".r",
   "mimetype": "text/x-r-source",
   "name": "R",
   "pygments_lexer": "r",
   "version": "3.4.1"
  },
  "latex_envs": {
   "LaTeX_envs_menu_present": true,
   "autoclose": false,
   "autocomplete": true,
   "bibliofile": "biblio.bib",
   "cite_by": "apalike",
   "current_citInitial": 1,
   "eqLabelWithNumbers": true,
   "eqNumInitial": 1,
   "hotkeys": {
    "equation": "Ctrl-E",
    "itemize": "Ctrl-I"
   },
   "labels_anchors": false,
   "latex_user_defs": false,
   "report_style_numbering": false,
   "user_envs_cfg": false
  },
  "toc": {
   "base_numbering": 1,
   "nav_menu": {},
   "number_sections": true,
   "sideBar": true,
   "skip_h1_title": false,
   "title_cell": "Table of Contents",
   "title_sidebar": "Contents",
   "toc_cell": false,
   "toc_position": {},
   "toc_section_display": true,
   "toc_window_display": false
  },
  "varInspector": {
   "cols": {
    "lenName": 16,
    "lenType": 16,
    "lenVar": 40
   },
   "kernels_config": {
    "python": {
     "delete_cmd_postfix": "",
     "delete_cmd_prefix": "del ",
     "library": "var_list.py",
     "varRefreshCmd": "print(var_dic_list())"
    },
    "r": {
     "delete_cmd_postfix": ") ",
     "delete_cmd_prefix": "rm(",
     "library": "var_list.r",
     "varRefreshCmd": "cat(var_dic_list()) "
    }
   },
   "types_to_exclude": [
    "module",
    "function",
    "builtin_function_or_method",
    "instance",
    "_Feature"
   ],
   "window_display": false
  }
 },
 "nbformat": 4,
 "nbformat_minor": 1
}
