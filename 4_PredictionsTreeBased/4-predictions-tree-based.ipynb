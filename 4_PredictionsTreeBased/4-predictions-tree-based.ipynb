{
 "cells": [
  {
   "cell_type": "markdown",
   "metadata": {},
   "source": [
    "# INFO-F-422 -  Statistical Foundations of Machine Learning \n",
    "\n",
    "### Bertrand Lebichot - __[Bertrand.Lebichot@ulb.ac.be](mailto:Bertrand.Lebichot@ulb.ac.be)__\n",
    "### Jacopo De Stefani - __[Jacopo.De.Stefani@ulb.ac.be](mailto:Jacopo.De.Stefani@ulb.ac.be)__\n",
    "### Arnaud Pollaris - __[Arnaud.Pollaris@ulb.ac.be](mailto:Arnaud.Pollaris@ulb.ac.be)__\n",
    "### Gianluca Bontempi - __[gbonte@ulb.ac.be](mailto:gbonte@ulb.ac.be)__\n",
    "\n",
    "## TP 4 - Predictions: Tree-based methods\n",
    "\n",
    "####  April 02, "
   ]
  },
  {
   "cell_type": "markdown",
   "metadata": {},
   "source": [
    "## Goal and dataset\n",
    "\n",
    "The goal is to review some ML concepts :\n",
    "* Classification trees\n",
    "* Ensemble methods : Random forests\n",
    "* Ensemble methods : Adaboost\n",
    "\n",
    "The chosen database is about spam detection. Details can be found here :\n",
    "https://archive.ics.uci.edu/ml/datasets/spambase\n",
    "\n",
    "To import the dataset, just use package ''nutshell'' (uncomment install line if required).\n",
    "\n",
    "Never forget that reading the documentation is useful :\n",
    "*? name_of_function* or *help(name_of_function)* "
   ]
  },
  {
   "cell_type": "code",
   "execution_count": 340,
   "metadata": {},
   "outputs": [],
   "source": [
    "#install.packages(\"nutshell\", repos = \"http://cran.rstudio.com\")\n",
    "library(\"nutshell\")\n",
    "data(spambase)"
   ]
  },
  {
   "cell_type": "markdown",
   "metadata": {},
   "source": [
    "## Classification vs regression\n",
    "\n",
    "Both classification and regression are sub-fields of *supervised learning*. In the two cases, we have predictive variables $X$ and a target variable $y$. The learning is said to be supervised because we use the actual value of $y$ for each samples in the training process.\n",
    "\n",
    "In regression, $y$ is assumed to be a continuous variable. In classification however, $y$ is assumed to be a discrete variable.\n",
    "\n",
    "The goal of a classification task is to automatically assign data to predefined discrete\n",
    "classes (where $C$ is the number of classes). \n",
    "\n",
    "Here is a toy example :\n",
    "* Knowing the two abstract features F1 and F2, and six samples for both class (the red class and the blue class), can you predict the label for the green sample ?\n"
   ]
  },
  {
   "cell_type": "code",
   "execution_count": 78,
   "metadata": {},
   "outputs": [
    {
     "data": {
      "image/png": "[encoded data removed]",
      "text/plain": [
       "Plot with title \"Scatterplot and decision boundary\""
      ]
     },
     "metadata": {},
     "output_type": "display_data"
    }
   ],
   "source": [
    "n = 6\n",
    "\n",
    "# blue class data\n",
    "F1 = rnorm(n, mean = +2, sd = 1)\n",
    "F2 = rnorm(n, mean = +1, sd = 1)\n",
    "SamplesBLUE = data.frame(F1, F2)\n",
    "gBLUE = c(mean(F1),mean(F2))\n",
    "\n",
    "# red class data\n",
    "F1 = rnorm(n, mean = -2, sd = 1)\n",
    "F2 = rnorm(n, mean = -1, sd = 1)\n",
    "SamplesRED = data.frame(F1, F2)\n",
    "gRED = c(mean(F1),mean(F2))\n",
    "\n",
    "# draw scatterplot\n",
    "plot(SamplesBLUE$F1,SamplesBLUE$F2,col=\"blue\",main=\"Scatterplot and decision boundary\",xlab=\"F1\",ylab=\"F2\",xlim=c(-5,5),ylim=c(-5,5))\n",
    "points(SamplesRED$F1,SamplesRED$F2,col=\"red\")\n",
    "points(0,0,col=\"green\")\n",
    "\n",
    "# draw centroid of classes\n",
    "points(gBLUE[1],gBLUE[2],col=\"blue\",pch = 4)\n",
    "points(gRED[1],gRED[2],col=\"red\",pch = 4)\n",
    "\n",
    "# draw decision boundary\n",
    "midgg = c(gRED[1]+abs(gBLUE[1]-gRED[1])/2,gRED[2]+abs(gBLUE[2]-gRED[2])/2)\n",
    "slope = -(gBLUE[1]-gRED[1])/(gBLUE[2]-gRED[2])\n",
    "abline(a=midgg[2]-slope*midgg[1],b=slope)\n"
   ]
  },
  {
   "cell_type": "markdown",
   "metadata": {},
   "source": [
    "### Confusion Matrix : \n",
    "\n",
    "In a two class setting, the confusion matrix (reporting the number of actual class / predicted class) have four entries:\n",
    " \n",
    "|            | Predicted False   | Predicted True  |\n",
    "|:----------:|-------------------|-----------------|\n",
    "|Actual False|  True Negative TN |False Positive FP|\n",
    "|Actual True | False Negative FN |True Positive TP |"
   ]
  },
  {
   "cell_type": "markdown",
   "metadata": {},
   "source": [
    "## Classification trees : the basics\n",
    "\n",
    "A decision tree (DT) partitions the input space into mutually exclusive regions (the divide-and-conquer approach). Therefore DT are easy to interpret.\n",
    "\n",
    "DT nodes can be classified in internal nodes, determining which child node to visit next, or terminal nodes, partitioning the input space. \n",
    "\n",
    "In classification trees (regression trees also exist), the terminal nodes contain a label that indicates the class for the associated input region. To classify, each new sample is presented to the DT root node of the branch to one of the root’s children. The procedure is repeated recursively until a leaf. The sample is then classified as the label of that leaf.\n",
    "\n",
    "The DT learning procedure has two steps known as *tree growing* and *tree pruning*.\n",
    "\n",
    "* During *tree growing*, an iterative, exhaustive, search is performed to find the successive splits that best reduces a certain cost function.\n",
    "\n",
    "    * The gini impurity (used in CART) : how often a randomly chosen element would be incorrectly labeled if it was randomly labeled according to the distribution of labels in the subset. It is minimum (zero) for class-homogeneous nodes.\n",
    "    \n",
    "    \\begin{equation}\n",
    "         Gini = \\sum_{i=1}^C p_i * (1-p_i) = 1-\\sum_{i=1}^C p_i^2\\\\\n",
    "    \\end{equation}\n",
    "\n",
    "    * The information gain (IG, used in ID3,C4.5) : based on the concept of entropy and information content from information theory. Basically the IG is the entropy of the parent node minus the weighted sum of the children node entropy.\n",
    "\n",
    "    \\begin{equation}\n",
    "         IG = -\\sum_{i=1}^C p_i * log_2 (p_i) - \\sum_{a} p(a) \\sum_{i=1}^C Pr(i|a) * log_2 (Pr(i|a))  \\\\\n",
    "    \\end{equation}\n",
    "   \n",
    "\n",
    "* Pruning uses a complexity based measure of the tree performance to avoid overfitting.\n",
    "\n",
    "\n",
    "Animated version of decision trees : http://www.r2d3.us/visual-intro-to-machine-learning-part-1/\n",
    "\n"
   ]
  },
  {
   "cell_type": "markdown",
   "metadata": {},
   "source": [
    "## Dataset : spam prior, available features,...\n",
    "\n",
    "You first have to explore the dataset before going to classification. This step can be long but is actually very important. In particular, obtain or observe the following interesting elements :\n",
    "* Number of rows and columns\n",
    "* Is there any missing values ?\n",
    "* Spam prior\n",
    "* Name and basic statistics for each variables\n",
    "* Histogram (or other relevant plot) per class (spam vs non-spam)\n"
   ]
  },
  {
   "cell_type": "code",
   "execution_count": null,
   "metadata": {},
   "outputs": [],
   "source": []
  },
  {
   "cell_type": "markdown",
   "metadata": {},
   "source": [
    "## Classification : classifier, performance metrics, train set and test set\n",
    "\n",
    "The goal of a classification task is to automatically assign data to predefined discrete\n",
    "classes (here spam vs non-spam). The obtained model is often called a classifier. \n",
    "\n",
    "The most used performance metric for classification is the misclassification rate. In this notebook, we will use it but other performance metrics exist. Of course, each performance metric has its pros and cons.\n",
    "\n",
    "The goal of supervised learning is to predict useful information. Therefore we must divide our dataset in two part :\n",
    "\n",
    "* *train set* : From which we train our model, assuming we know the class labels\n",
    "* *test set* : On which we test our model\n",
    "\n",
    "Sometimes, when we want to validate parameters, a *validation set* is also used.\n",
    "\n",
    "This train/test partition can be very simple (one sample in train set, one in test set, repeat) or more elaborate (10-fold cross-validation).\n",
    "\n",
    "First, obtain the performance of a DT on the spambase dataset using a very simple partition. Also check the importance of each feature using the obtained DT. You can use packages *rpart* or *tree*.\n",
    "\n",
    "Then plot the obtained tree using packages *rpart.plot*.\n",
    "\n",
    "Finally, implement a 10-fold cross-validation for assessing your DT."
   ]
  },
  {
   "cell_type": "code",
   "execution_count": null,
   "metadata": {},
   "outputs": [],
   "source": []
  },
  {
   "cell_type": "markdown",
   "metadata": {},
   "source": [
    "## Ensemble learning : random forest\n",
    "\n",
    "A random forest (RF) consists in an ensemble of multiple decision trees trained at the same time and predicting the class as the mode of the single-tree prediction.\n",
    "It combines the *bagging* idea and random selection of features, which is different for each tree. Compared to DT, RF to overfit less and reduce the variance of the estimation. Here is an implementation helper (of course, multiple variants exist) :\n",
    "\n",
    "* The number of trees is a compromise between training time and performance.\n",
    "* Each tree is built on a subset of features, usually the squared root of the total number of features, drawn randomly.\n",
    "* For a new sample, the predicted class is simply the mean of predicted probabilities on all trained trees.\n",
    "\n",
    "Implement a random forest with five trees from your (simple data partition) DT. Try with 8 and 20 features per tree. Do not use the *randomForest* package.\n",
    "\n",
    "Then, implement a 10-fold cross-validation for assessing your DT. Plot the performances according to the number of trained trees. At that point you can use the  *randomForest* package."
   ]
  },
  {
   "cell_type": "code",
   "execution_count": null,
   "metadata": {},
   "outputs": [],
   "source": []
  },
  {
   "cell_type": "markdown",
   "metadata": {},
   "source": [
    "## Ensemble learning : Boosting\n",
    "\n",
    "Boosting produces a serie of classifiers (here $T$ trees with $1 \\leq t \\leq T$). The training set used for each classifier (here tree) of the serie is chosen based on the performance of the earlier classifier(s) in the serie. Unlike bagging (like RF), the different classifier cannot be trained in parallel as they depend of the previous one(s). Here is an implementation helper (multiple variants exist) :\n",
    "\n",
    "* The number of trees is a compromise between training time and performance. Here we will train 15 trees.\n",
    "* Starting probability of picking each sample $i$ (with $1 \\leq i \\leq N$) is 1/N (the number of samples in train set). After the first tree, it becomes simply proportional to the weight $w_i$.\n",
    "* The misclassification metric ($misc$) on the train set is also linearly weighted by $w_i$. We will call it $wmisc$.\n",
    "* It allows to compute $\\alpha_t = log((1-wmisc[t])/wmisc[t])$. It represents a confidence on that tree (or classifier).\n",
    "* Then $\\alpha_t$ allows to update $w_i = w_i*exp(alpha_t*misc_t)$.\n",
    "* Finally, the predicted values are the average of all trees, linearly weighted by $\\alpha_t$.\n",
    "* The trees are usually depth-forced : add *control=tree.control(Ntrain,mincut=10)* as a parameter to *tree()*.\n",
    "\n",
    "For this exercise, we will use the *tree* package. It is therefore easier to recode the spam labels as -1/+1."
   ]
  },
  {
   "cell_type": "code",
   "execution_count": 358,
   "metadata": {},
   "outputs": [],
   "source": [
    "nsample <- nrow(spambase)\n",
    "data(spambase)\n",
    "spambase$is_spam = (2*as.integer(spambase$is_spam)-3) "
   ]
  },
  {
   "cell_type": "markdown",
   "metadata": {},
   "source": [
    "Now compare, in terms of misclassifcation, a regular tree against a boosted 15-trees model. You can re-use the code of the ''very simple partition'' as for the first tree we designed."
   ]
  },
  {
   "cell_type": "code",
   "execution_count": null,
   "metadata": {},
   "outputs": [],
   "source": []
  }
 ],
 "metadata": {
  "anaconda-cloud": {},
  "kernelspec": {
   "display_name": "R",
   "language": "R",
   "name": "ir"
  },
  "language_info": {
   "codemirror_mode": "r",
   "file_extension": ".r",
   "mimetype": "text/x-r-source",
   "name": "R",
   "pygments_lexer": "r",
   "version": "3.4.1"
  },
  "latex_envs": {
   "LaTeX_envs_menu_present": true,
   "autoclose": false,
   "autocomplete": true,
   "bibliofile": "biblio.bib",
   "cite_by": "apalike",
   "current_citInitial": 1,
   "eqLabelWithNumbers": true,
   "eqNumInitial": 1,
   "hotkeys": {
    "equation": "Ctrl-E",
    "itemize": "Ctrl-I"
   },
   "labels_anchors": false,
   "latex_user_defs": false,
   "report_style_numbering": false,
   "user_envs_cfg": false
  }
 },
 "nbformat": 4,
 "nbformat_minor": 2
}
